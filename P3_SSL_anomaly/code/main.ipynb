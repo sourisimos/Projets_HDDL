{
 "cells": [
  {
   "cell_type": "markdown",
   "metadata": {},
   "source": [
    "# Self-supervised Learning\n",
    "The objective of this lab project is to go further in the understanding of Self-Supervised Learning (SSL). By the end of the notebook, you will\n",
    "- Train models using different pretext tasks: colorizing, inpainting, masking reconstruction.\n",
    "- Fine-tune the models with the downstream task of interst.\n",
    "- Compare the performance of the different backbones obtained from the different downstream tasks."
   ]
  },
  {
   "cell_type": "markdown",
   "metadata": {},
   "source": [
    "## Library imports"
   ]
  },
  {
   "cell_type": "code",
   "execution_count": 2,
   "metadata": {},
   "outputs": [],
   "source": [
    "import torch\n",
    "import torch.nn as nn\n",
    "import torch.optim as optim\n",
    "import torch.nn.functional as F\n",
    "from torchvision import datasets, transforms\n",
    "from torch.utils.data import DataLoader, random_split, Dataset\n",
    "import numpy as np\n",
    "import matplotlib.pyplot as plt\n",
    "from sklearn.metrics import roc_curve, auc\n",
    "\n",
    "import os   "
   ]
  },
  {
   "cell_type": "markdown",
   "metadata": {},
   "source": [
    "## Pretext and Downstream Tasks\n",
    "\n",
    "We will train three different models using three different pretext tasks. All three models will be trained on the SVHN dataset. The three models are the following:\n",
    "- A Colorization Neural Network\n",
    "- An Inpainting Neural Network\n",
    "- A Masked Autoencoder\n",
    "\n",
    "We will build a common architecture so that all three models have as similar architectures as possible. The common architecture will consist of an encoder and a decoder. Once the models pre-trained on their respective pretext tasks, we will use the pre-trained encoders to evaluate the learnt representations on two new downstream task: image classification on MNIST and on SVHN. To that end, we will perform a linear evaluation protocol, by freezing the weights of the pre-trained encoders, and training a linear classifier on the learnt representations. "
   ]
  },
  {
   "cell_type": "markdown",
   "metadata": {},
   "source": [
    "# Hyperparameters"
   ]
  },
  {
   "cell_type": "code",
   "execution_count": 3,
   "metadata": {},
   "outputs": [],
   "source": [
    "BATCH_SIZE = 128\n",
    "RESIZE = 32\n",
    "LATENT_DIM = 32"
   ]
  },
  {
   "cell_type": "markdown",
   "metadata": {},
   "source": [
    "## Data Preparation"
   ]
  },
  {
   "cell_type": "markdown",
   "metadata": {},
   "source": [
    "Download the datasets"
   ]
  },
  {
   "cell_type": "markdown",
   "metadata": {},
   "source": [
    "Les données ont été convertit de png à jpg pour diminuer largement la taille des données (de 5,1Go à 165Mo) et augmenter largement la vitesse de calcul.\n",
    "Les performance sont moins bonnes, cependant comme il s'agit d'une étude comparative et non une étude de performance, on s'attends à avoir une diminution de performance globale, ce qui n'est donc pas dérangeant car un modèle n'est pas favorisé plus qu'un autre. Il est donc possible de faire une comparaison des modèles.\n",
    "A la fin, une étude de performance sera effectué avec le modèle le plus prometeur. \n",
    "\n",
    "Les datasets ont été modifié pour correspondre au demande du projet et son téléchargeable depuis un dépot github séparé du code."
   ]
  },
  {
   "cell_type": "code",
   "execution_count": 4,
   "metadata": {},
   "outputs": [],
   "source": [
    "# Crée un chemin relatif basé sur le dossier actuel\n",
    "dataset_path = os.path.join(os.getcwd(), '../data/')\n",
    "\n",
    "if not os.path.exists(dataset_path):\n",
    "    os.makedirs(dataset_path, exist_ok=True)  # Crée le dossier et ses parents si nécessaire\n",
    "\n",
    "    !git clone https://github.com/sourisimos/DATA_P3HDDL_MVTEC.git ../data/mvtec #Cloning mvtec dataset \n",
    "    !git clone https://github.com/sourisimos/DATA_P3HDDL_EW.git ../data/ew #Cloning ew datasets\n",
    "\n",
    "    print(f\"Dossiers téléchargés dans le dossier '{dataset_path}'.\")\n"
   ]
  },
  {
   "cell_type": "markdown",
   "metadata": {},
   "source": [
    "## Engine wiring dataset"
   ]
  },
  {
   "cell_type": "markdown",
   "metadata": {},
   "source": [
    "### jpg dataset\n"
   ]
  },
  {
   "cell_type": "code",
   "execution_count": 5,
   "metadata": {},
   "outputs": [],
   "source": [
    "# Define the transformations to apply to EW\n",
    "\n",
    "transform_ew_val = transforms.Compose([\n",
    "    transforms.Resize((RESIZE, RESIZE)),\n",
    "    transforms.ToTensor()\n",
    "\n",
    "])\n",
    "\n",
    "transform_ew_train = transforms.Compose([\n",
    "    transforms.Resize((RESIZE,RESIZE)),\n",
    "    transforms.RandomRotation(degrees=30),\n",
    "    transforms.RandomHorizontalFlip(),\n",
    "    transforms.ColorJitter(brightness=0.2, contrast=0.2, saturation=0.2, hue=0.1),\n",
    "    transforms.ToTensor()\n",
    "])\n",
    "\n",
    "\n",
    "# Load EW dataset for train test and creating val\n",
    "# Training\n",
    "ew_train_dataset = datasets.ImageFolder(root='../data/ew/engine_wiring/train', transform=transform_ew_train)\n",
    "ew_train_loader = DataLoader(ew_train_dataset, batch_size=BATCH_SIZE, shuffle=True )\n",
    "\n",
    "# Test\n",
    "ew_test_dataset = datasets.ImageFolder(root='../data/ew/engine_wiring/test', transform=transform_ew_val) \n",
    "ew_test_loader = DataLoader(ew_test_dataset, batch_size=BATCH_SIZE, shuffle=True)\n",
    "\n",
    "\n",
    "# Device configuration\n",
    "\n",
    "device = torch.device('cuda' if torch.cuda.is_available() else 'cpu')\n"
   ]
  },
  {
   "cell_type": "markdown",
   "metadata": {},
   "source": [
    "### png DATASET\n"
   ]
  },
  {
   "cell_type": "code",
   "execution_count": 5,
   "metadata": {},
   "outputs": [],
   "source": [
    "# Define the transformations to apply to EW\n",
    "\n",
    "transform_ew_val = transforms.Compose([\n",
    "    transforms.Resize((RESIZE, RESIZE)),\n",
    "    transforms.ToTensor()\n",
    "\n",
    "])\n",
    "\n",
    "transform_ew_train = transforms.Compose([\n",
    "    transforms.Resize((RESIZE,RESIZE)),\n",
    "    transforms.RandomRotation(degrees=30),\n",
    "    transforms.RandomHorizontalFlip(),\n",
    "    transforms.ColorJitter(brightness=0.2, contrast=0.2, saturation=0.2, hue=0.1),\n",
    "    transforms.ToTensor()\n",
    "])\n",
    "\n",
    "\n",
    "# Load EW dataset for train test and creating val\n",
    "# Training\n",
    "ew_train_dataset = datasets.ImageFolder(root='../data_png/engine_wiring/train', transform=transform_ew_train)\n",
    "ew_train_loader = DataLoader(ew_train_dataset, batch_size=BATCH_SIZE, shuffle=True )\n",
    "\n",
    "# Test\n",
    "ew_test_dataset = datasets.ImageFolder(root='../data_png/engine_wiring/test', transform=transform_ew_val) \n",
    "ew_test_loader = DataLoader(ew_test_dataset, batch_size=BATCH_SIZE, shuffle=True)\n",
    "\n",
    "\n",
    "# Device configuration\n",
    "\n",
    "device = torch.device('cuda' if torch.cuda.is_available() else 'cpu')\n"
   ]
  },
  {
   "cell_type": "markdown",
   "metadata": {},
   "source": [
    "## MVtec datasets"
   ]
  },
  {
   "cell_type": "code",
   "execution_count": 6,
   "metadata": {},
   "outputs": [],
   "source": [
    "# Define the transformations to apply to the images\n",
    "transform_mvtec = transforms.Compose([\n",
    "    transforms.Resize((128, 128)),  \n",
    "    transforms.ToTensor(),  \n",
    "])\n",
    "\n",
    "# Function to load the dataset mvtec \n",
    "def load_mvt_dataset(root='../data/mvtec/mvtec_anomaly_detection', batch_size=64, restricted = True):\n",
    "    # List of categories you want to load\n",
    "    categories = ['bottle', 'cable','capsule', 'carpet', 'grid','hazelnut', 'leather', 'metal_nut', 'pill', 'screw', 'tile', 'toothbrush', 'transistor', 'wood', 'zipper']  # Add other categories as needed\n",
    "    # Restricted are just the essential one (for the academ project )\n",
    "    if restricted: \n",
    "        categories = ['bottle','capsule', 'hazelnut', 'toothbrush']\n",
    "        \n",
    "    # Create dictionaries to hold loaders for training and test sets\n",
    "    train_loaders = {}\n",
    "    test_loaders = {}\n",
    "    \n",
    "    for category in categories:\n",
    "\n",
    "        train_dataset = datasets.ImageFolder(root=f'{root}/{category}/train', transform=transform_mvtec)\n",
    "        train_loader = DataLoader(train_dataset, batch_size=batch_size, shuffle=True)\n",
    "        train_loaders[category] = train_loader\n",
    "        \n",
    "        test_dataset = datasets.ImageFolder(root=f'{root}/{category}/test', transform=transform_mvtec)\n",
    "        test_loader = DataLoader(test_dataset, batch_size=batch_size, shuffle=False)\n",
    "        test_loaders[category] = test_loader\n",
    "        \n",
    "    return train_loaders, test_loaders\n",
    "\n",
    "train_loaders, test_loaders = load_mvt_dataset()\n",
    "\n",
    "# Accessing a specific category's data loader\n",
    "bottle_train_loader = train_loaders['bottle']\n",
    "bottle_test_loader = test_loaders['bottle']"
   ]
  },
  {
   "cell_type": "markdown",
   "metadata": {},
   "source": [
    "## Shared architecture\n",
    "We will create a shared architecture with the following layers:\n",
    "- The encoder (in sequential order):\n",
    "    - A convolution with 64 filters, kernel size 4, stride 2, padding 1\n",
    "    - A ReLU activation\n",
    "    - A convolution with 128 filters, kernel size 4, stride2, padding 1\n",
    "    - A ReLU activation\n",
    "    - A convolution with `latent_dim`, kernel size 4, stride 2, padding 1\n",
    "    - A ReLU activation\n",
    "The encoder should take the number of channels of the input `in_channels` and the hidden dimension `latent_dim` as arguments.\n",
    "- The decoder (in secuential ) order:\n",
    "    - A Transpose convolution with 128 filters, kernel size 4, padding 1\n",
    "    - A ReLU activation\n",
    "    - A convolution with 16428 filters, kernel size 4, stride2, padding 1\n",
    "    - A ReLU activation\n",
    "    - A convolution with `out_channels` filters, kernel size 4, stride 2, padding 1\n",
    "    - A ReLU activation\n",
    "The encoder should take the number of channels of the output `out_channels` and the hidden dimension `latent_dim` as arguments."
   ]
  },
  {
   "cell_type": "code",
   "execution_count": 7,
   "metadata": {},
   "outputs": [],
   "source": [
    "class Encoder(nn.Module):\n",
    "    def __init__(self, in_channels=3, latent_dim=128):\n",
    "        super(Encoder, self).__init__()\n",
    "        self.encoder = nn.Sequential(\n",
    "            nn.Conv2d(in_channels, 64, kernel_size=4, stride=2, padding=1),  # 32x32 -> 16x16\n",
    "            nn.ReLU(),\n",
    "            nn.Conv2d(64, 128, kernel_size=4, stride=2, padding=1),  # 16x16 -> 8x8\n",
    "            nn.ReLU(),\n",
    "            nn.Conv2d(128, 256, kernel_size=4, stride=2, padding=1),  # 8x8 -> 4x4\n",
    "            nn.ReLU(),\n",
    "            nn.Conv2d(256, latent_dim, kernel_size=4, stride=2, padding=1),  # 4x4 -> 2x2\n",
    "            nn.ReLU(),\n",
    "        )\n",
    "\n",
    "    def forward(self, x):\n",
    "        return self.encoder(x)\n",
    "\n",
    "class Decoder(nn.Module):\n",
    "    def __init__(self, latent_dim=128, out_channels=3):\n",
    "        super(Decoder, self).__init__()\n",
    "        self.decoder = nn.Sequential(\n",
    "            nn.ConvTranspose2d(latent_dim, 256, kernel_size=4, stride=2, padding=1),  # 2x2 -> 4x4\n",
    "            nn.ReLU(),\n",
    "            nn.ConvTranspose2d(256, 128, kernel_size=4, stride=2, padding=1),  # 4x4 -> 8x8\n",
    "            nn.ReLU(),\n",
    "            nn.ConvTranspose2d(128, 64, kernel_size=4, stride=2, padding=1),  # 8x8 -> 16x16\n",
    "            nn.ReLU(),\n",
    "            nn.ConvTranspose2d(64, out_channels, kernel_size=4, stride=2, padding=1),  # 16x16 -> 32x32\n",
    "            nn.Sigmoid(),\n",
    "        )\n",
    "\n",
    "    def forward(self, x):\n",
    "        return self.decoder(x)"
   ]
  },
  {
   "cell_type": "code",
   "execution_count": 8,
   "metadata": {},
   "outputs": [],
   "source": [
    "def train_ssl_model(model, \n",
    "                    train_loader, \n",
    "                    val_loader, \n",
    "                    criterion,\n",
    "                    optimizer,\n",
    "                    device=device,\n",
    "                    epochs=5):\n",
    "    model.to(device)\n",
    "    for epoch in range(epochs):\n",
    "        model.train()\n",
    "        total_train_loss = 0\n",
    "        for images, _ in train_loader:\n",
    "            images = images.to(device)\n",
    "            optimizer.zero_grad()\n",
    "            \n",
    "            output, _ = model(images)\n",
    "            loss = criterion(output, images)\n",
    "            loss.backward()\n",
    "            optimizer.step()\n",
    "            total_train_loss += loss.item()\n",
    "\n",
    "        avg_train_loss = total_train_loss / len(train_loader)\n",
    "\n",
    "        model.eval()\n",
    "        total_val_loss = 0\n",
    "        with torch.no_grad():\n",
    "            for images, _ in val_loader:\n",
    "                images = images.to(device)\n",
    "                output, _ = model(images)\n",
    "                val_loss = criterion(output, images)\n",
    "                total_val_loss += val_loss.item()\n",
    "\n",
    "        avg_val_loss = total_val_loss / len(val_loader)\n",
    "\n",
    "        print(f\"Epoch {epoch+1}/{epochs}, Train Loss: {avg_train_loss:.4f}, Avg Val Loss: {avg_val_loss:.4f}\")\n",
    "    \n",
    "    return model"
   ]
  },
  {
   "cell_type": "markdown",
   "metadata": {},
   "source": [
    "# Colorization model "
   ]
  },
  {
   "cell_type": "markdown",
   "metadata": {},
   "source": [
    "a de grande chance d'être nul dans le cadre de nos données"
   ]
  },
  {
   "cell_type": "code",
   "execution_count": 9,
   "metadata": {},
   "outputs": [],
   "source": [
    "class ColorizationModel(nn.Module):\n",
    "    def __init__(self, latent_dim=LATENT_DIM):\n",
    "        super(ColorizationModel, self).__init__()\n",
    "        self.encoder = Encoder(latent_dim=latent_dim, in_channels=1)  # Input grayscale\n",
    "        self.decoder = Decoder(latent_dim=latent_dim, out_channels=3)  # Predict RGB\n",
    "\n",
    "    def forward(self, x):\n",
    "        grayscale_x = transforms.Grayscale()(x)  # Convert RGB to Grayscale\n",
    "        z = self.encoder(grayscale_x)\n",
    "        return self.decoder(z), grayscale_x"
   ]
  },
  {
   "cell_type": "code",
   "execution_count": 10,
   "metadata": {},
   "outputs": [
    {
     "name": "stdout",
     "output_type": "stream",
     "text": [
      "Epoch 1/20, Train Loss: 0.1574, Avg Val Loss: 0.1260\n",
      "Epoch 2/20, Train Loss: 0.1453, Avg Val Loss: 0.1187\n",
      "Epoch 3/20, Train Loss: 0.1199, Avg Val Loss: 0.0965\n",
      "Epoch 4/20, Train Loss: 0.0862, Avg Val Loss: 0.0616\n",
      "Epoch 5/20, Train Loss: 0.0607, Avg Val Loss: 0.0493\n",
      "Epoch 6/20, Train Loss: 0.0480, Avg Val Loss: 0.0409\n",
      "Epoch 7/20, Train Loss: 0.0402, Avg Val Loss: 0.0354\n",
      "Epoch 8/20, Train Loss: 0.0352, Avg Val Loss: 0.0309\n",
      "Epoch 9/20, Train Loss: 0.0297, Avg Val Loss: 0.0222\n",
      "Epoch 10/20, Train Loss: 0.0169, Avg Val Loss: 0.0093\n",
      "Epoch 11/20, Train Loss: 0.0068, Avg Val Loss: 0.0059\n",
      "Epoch 12/20, Train Loss: 0.0044, Avg Val Loss: 0.0047\n",
      "Epoch 13/20, Train Loss: 0.0036, Avg Val Loss: 0.0044\n",
      "Epoch 14/20, Train Loss: 0.0033, Avg Val Loss: 0.0043\n",
      "Epoch 15/20, Train Loss: 0.0030, Avg Val Loss: 0.0040\n",
      "Epoch 16/20, Train Loss: 0.0029, Avg Val Loss: 0.0038\n",
      "Epoch 17/20, Train Loss: 0.0028, Avg Val Loss: 0.0037\n",
      "Epoch 18/20, Train Loss: 0.0026, Avg Val Loss: 0.0036\n",
      "Epoch 19/20, Train Loss: 0.0025, Avg Val Loss: 0.0035\n",
      "Epoch 20/20, Train Loss: 0.0024, Avg Val Loss: 0.0034\n"
     ]
    }
   ],
   "source": [
    "colorization_model = ColorizationModel(latent_dim=LATENT_DIM)\n",
    "colorization_encoder = train_ssl_model(colorization_model, \n",
    "                                       bottle_train_loader, \n",
    "                                       bottle_test_loader, \n",
    "                                       criterion=nn.MSELoss(), \n",
    "                                       optimizer=optim.Adam(colorization_model.parameters(),lr=0.01),\n",
    "                                       epochs = 20\n",
    "                                       )"
   ]
  },
  {
   "cell_type": "markdown",
   "metadata": {},
   "source": [
    "# Inpainting model "
   ]
  },
  {
   "cell_type": "code",
   "execution_count": 25,
   "metadata": {},
   "outputs": [],
   "source": [
    "class InpaintingModel(nn.Module):\n",
    "    def __init__(self, latent_dim=128, mask_size=8):\n",
    "        super(InpaintingModel, self).__init__()\n",
    "        self.encoder = Encoder(latent_dim=latent_dim)\n",
    "        self.decoder = Decoder(latent_dim=latent_dim)\n",
    "        self.mask_size = mask_size\n",
    "\n",
    "    def forward(self, x):\n",
    "        x_masked = self.apply_mask(x)\n",
    "        z = self.encoder(x_masked)\n",
    "        return self.decoder(z), x_masked\n",
    "    \n",
    "    def apply_mask(self, x):\n",
    "        masked_x = x.clone()\n",
    "\n",
    "        for i in range(masked_x.size(0)):\n",
    "            ul_x = np.random.randint(0, x.size(2) - self.mask_size + 1)\n",
    "            ul_y = np.random.randint(0, x.size(3) - self.mask_size + 1)\n",
    "            masked_x[i, :, ul_x:ul_x+self.mask_size, ul_y:ul_y+self.mask_size] = 0\n",
    "\n",
    "        return masked_x"
   ]
  },
  {
   "cell_type": "code",
   "execution_count": 26,
   "metadata": {},
   "outputs": [
    {
     "name": "stdout",
     "output_type": "stream",
     "text": [
      "Epoch 1/20, Train Loss: 0.1308, Avg Val Loss: 0.1265\n",
      "Epoch 2/20, Train Loss: 0.1147, Avg Val Loss: 0.0722\n",
      "Epoch 3/20, Train Loss: 0.0695, Avg Val Loss: 0.0553\n",
      "Epoch 4/20, Train Loss: 0.0627, Avg Val Loss: 0.0505\n",
      "Epoch 5/20, Train Loss: 0.0455, Avg Val Loss: 0.0399\n",
      "Epoch 6/20, Train Loss: 0.0305, Avg Val Loss: 0.0289\n",
      "Epoch 7/20, Train Loss: 0.0218, Avg Val Loss: 0.0216\n",
      "Epoch 8/20, Train Loss: 0.0177, Avg Val Loss: 0.0143\n",
      "Epoch 9/20, Train Loss: 0.0141, Avg Val Loss: 0.0136\n",
      "Epoch 10/20, Train Loss: 0.0126, Avg Val Loss: 0.0128\n",
      "Epoch 11/20, Train Loss: 0.0108, Avg Val Loss: 0.0099\n",
      "Epoch 12/20, Train Loss: 0.0088, Avg Val Loss: 0.0089\n",
      "Epoch 13/20, Train Loss: 0.0075, Avg Val Loss: 0.0077\n",
      "Epoch 14/20, Train Loss: 0.0065, Avg Val Loss: 0.0069\n",
      "Epoch 15/20, Train Loss: 0.0057, Avg Val Loss: 0.0059\n",
      "Epoch 16/20, Train Loss: 0.0049, Avg Val Loss: 0.0053\n",
      "Epoch 17/20, Train Loss: 0.0043, Avg Val Loss: 0.0050\n",
      "Epoch 18/20, Train Loss: 0.0039, Avg Val Loss: 0.0044\n",
      "Epoch 19/20, Train Loss: 0.0035, Avg Val Loss: 0.0041\n",
      "Epoch 20/20, Train Loss: 0.0031, Avg Val Loss: 0.0039\n"
     ]
    }
   ],
   "source": [
    "inpainting_model = InpaintingModel(latent_dim=LATENT_DIM, mask_size=8)\n",
    "inpainting_encoder = train_ssl_model(inpainting_model,\n",
    "                                     bottle_train_loader, \n",
    "                                     bottle_test_loader, \n",
    "                                     criterion=nn.MSELoss(), \n",
    "                                     optimizer=optim.Adam(inpainting_model.parameters(),lr=0.001),\n",
    "                                     epochs = 20\n",
    "                                     )"
   ]
  },
  {
   "cell_type": "markdown",
   "metadata": {},
   "source": [
    "# Masked AE Model"
   ]
  },
  {
   "cell_type": "code",
   "execution_count": 27,
   "metadata": {},
   "outputs": [],
   "source": [
    "class MaskedAutoencoderModel(nn.Module):\n",
    "    def __init__(self, latent_dim=32, mask_ratio=1/16):\n",
    "        super(MaskedAutoencoderModel, self).__init__()\n",
    "        self.encoder = Encoder(latent_dim=latent_dim)\n",
    "        self.decoder = Decoder(latent_dim=latent_dim)\n",
    "        self.mask_ratio = mask_ratio\n",
    "\n",
    "    def forward(self, x):\n",
    "        x_masked = self.apply_mask(x)\n",
    "        z = self.encoder(x_masked)\n",
    "        return self.decoder(z), x_masked\n",
    "        \n",
    "    \n",
    "    def apply_mask(self, x):\n",
    "        x_masked = x.clone()\n",
    "        mask = torch.rand_like(x[:, 0, :, :]) < self.mask_ratio\n",
    "        mask = mask.unsqueeze(1).repeat(1, x.size(1), 1, 1)\n",
    "        x_masked[mask] = 0\n",
    "        return x_masked"
   ]
  },
  {
   "cell_type": "code",
   "execution_count": 28,
   "metadata": {},
   "outputs": [
    {
     "name": "stdout",
     "output_type": "stream",
     "text": [
      "Epoch 1/20, Train Loss: 0.1315, Avg Val Loss: 0.1241\n",
      "Epoch 2/20, Train Loss: 0.1128, Avg Val Loss: 0.0857\n",
      "Epoch 3/20, Train Loss: 0.0784, Avg Val Loss: 0.0647\n",
      "Epoch 4/20, Train Loss: 0.0649, Avg Val Loss: 0.0573\n",
      "Epoch 5/20, Train Loss: 0.0528, Avg Val Loss: 0.0401\n",
      "Epoch 6/20, Train Loss: 0.0373, Avg Val Loss: 0.0259\n",
      "Epoch 7/20, Train Loss: 0.0245, Avg Val Loss: 0.0232\n",
      "Epoch 8/20, Train Loss: 0.0167, Avg Val Loss: 0.0119\n",
      "Epoch 9/20, Train Loss: 0.0112, Avg Val Loss: 0.0089\n",
      "Epoch 10/20, Train Loss: 0.0085, Avg Val Loss: 0.0087\n",
      "Epoch 11/20, Train Loss: 0.0069, Avg Val Loss: 0.0066\n",
      "Epoch 12/20, Train Loss: 0.0057, Avg Val Loss: 0.0060\n",
      "Epoch 13/20, Train Loss: 0.0048, Avg Val Loss: 0.0051\n",
      "Epoch 14/20, Train Loss: 0.0041, Avg Val Loss: 0.0046\n",
      "Epoch 15/20, Train Loss: 0.0036, Avg Val Loss: 0.0042\n",
      "Epoch 16/20, Train Loss: 0.0032, Avg Val Loss: 0.0039\n",
      "Epoch 17/20, Train Loss: 0.0029, Avg Val Loss: 0.0037\n",
      "Epoch 18/20, Train Loss: 0.0029, Avg Val Loss: 0.0056\n",
      "Epoch 19/20, Train Loss: 0.0042, Avg Val Loss: 0.0052\n",
      "Epoch 20/20, Train Loss: 0.0038, Avg Val Loss: 0.0045\n"
     ]
    }
   ],
   "source": [
    "mae_model = MaskedAutoencoderModel(latent_dim=LATENT_DIM, mask_ratio=1/16)\n",
    "mae_encoder = train_ssl_model(mae_model,\n",
    "                              bottle_train_loader, \n",
    "                              bottle_test_loader, \n",
    "                              criterion=nn.MSELoss(), \n",
    "                              optimizer=optim.Adam(mae_model.parameters(),lr=0.001),\n",
    "                              epochs = 20\n",
    "                              )"
   ]
  },
  {
   "cell_type": "markdown",
   "metadata": {},
   "source": [
    "# Contrastive Model"
   ]
  },
  {
   "cell_type": "markdown",
   "metadata": {},
   "source": [
    "## Specific datas for contrastive model"
   ]
  },
  {
   "cell_type": "code",
   "execution_count": 139,
   "metadata": {},
   "outputs": [],
   "source": [
    "from torchvision import datasets, transforms\n",
    "\n",
    "# Définissez les transformations\n",
    "transform_train_cm = transforms.Compose([\n",
    "    transforms.Resize((RESIZE, RESIZE)),\n",
    "    transforms.RandomRotation(degrees=30),\n",
    "    transforms.RandomHorizontalFlip(),\n",
    "    transforms.ColorJitter(brightness=0.2, contrast=0.2, saturation=0.2, hue=0.1),\n",
    "    transforms.ToTensor()\n",
    "])\n",
    "\n",
    "transform_val_cm = transforms.Compose([\n",
    "    transforms.Resize((RESIZE, RESIZE)),\n",
    "    transforms.ToTensor()\n",
    "])\n",
    "\n",
    "\n",
    "# Define the Contrastive Dataset\n",
    "class ContrastiveDataset(Dataset):\n",
    "    def __init__(self, dataset, transform=None):\n",
    "        self.dataset = dataset\n",
    "        self.transform = transform\n",
    "\n",
    "    def __len__(self):\n",
    "        return len(self.dataset)\n",
    "\n",
    "    def __getitem__(self, idx):\n",
    "        # Get original image and its label (if applicable, ignored here)\n",
    "        img, label = self.dataset[idx]\n",
    "        \n",
    "        # Apply transformation to create a positive pair\n",
    "        img1 = self.transform(img) if self.transform else img\n",
    "        img2 = self.transform(img) if self.transform else img\n",
    "        \n",
    "        return img1.float(), img2.float(), label\n",
    "    \n",
    "# Chargez les datasets d'origine avec ImageFolder sans transformation\n",
    "ew_train_dataset = datasets.ImageFolder(root='../data/ew/engine_wiring/train', transform=None)\n",
    "ew_test_dataset = datasets.ImageFolder(root='../data/ew/engine_wiring/test', transform=None)\n",
    "\n",
    "# Utilisez ContrastiveDataset pour créer des paires positives\n",
    "contrastive_train_dataset = ContrastiveDataset(ew_train_dataset, transform=transform_train_cm)\n",
    "contrastive_test_dataset = ContrastiveDataset(ew_test_dataset, transform=transform_val_cm)\n",
    "\n",
    "# Créez les DataLoaders\n",
    "BATCH_SIZE = 32\n",
    "ew_train_loader_cm = DataLoader(contrastive_train_dataset, batch_size=BATCH_SIZE, shuffle=True)\n",
    "ew_test_loader_cm = DataLoader(contrastive_test_dataset, batch_size=BATCH_SIZE, shuffle=True)\n"
   ]
  },
  {
   "cell_type": "code",
   "execution_count": 82,
   "metadata": {},
   "outputs": [],
   "source": [
    "# Define the Projection Head\n",
    "class ProjectionHead(nn.Module):\n",
    "    def __init__(self, input_dim, output_dim):\n",
    "        super(ProjectionHead, self).__init__()\n",
    "        self.fc1 = nn.Linear(input_dim, 128)\n",
    "        self.fc2 = nn.Linear(128, output_dim)\n",
    "\n",
    "    def forward(self, x):\n",
    "        x = F.relu(self.fc1(x))\n",
    "        return self.fc2(x)\n",
    "\n",
    "\n",
    "class ContrastiveModel(nn.Module):\n",
    "    def __init__(self, in_channels=3, latent_dim=32, projection_dim=128):\n",
    "        super(ContrastiveModel, self).__init__()\n",
    "        self.encoder = Encoder(in_channels=in_channels, latent_dim=latent_dim)\n",
    "        \n",
    "        # Ajustez input_dim en fonction de la sortie de l'encodeur\n",
    "        # En supposant que la sortie de l'encodeur est de dimension (256, 2, 2)\n",
    "        input_dim = 256 * 2 * 2\n",
    "        self.projection_head = ProjectionHead(input_dim=input_dim, output_dim=projection_dim)\n",
    "\n",
    "    def forward(self, x):\n",
    "        features = self.encoder(x)\n",
    "        features_flat = features.view(features.size(0), -1)\n",
    "        projections = self.projection_head(features_flat)\n",
    "        return projections\n",
    "\n",
    "    \n",
    "\n",
    "# Define the Contrastive Loss\n",
    "class ContrastiveLoss(nn.Module):\n",
    "    def __init__(self, temperature=0.1):\n",
    "        super(ContrastiveLoss, self).__init__()\n",
    "        self.temperature = temperature\n",
    "\n",
    "    def forward(self, z1, z2):\n",
    "        z1 = F.normalize(z1, dim=-1)\n",
    "        z2 = F.normalize(z2, dim=-1)\n",
    "        similarity = torch.mm(z1, z2.T) / self.temperature\n",
    "        labels = torch.arange(z1.size(0)).to(z1.device)\n",
    "        loss = F.cross_entropy(similarity, labels)\n",
    "        return loss\n",
    "\n",
    "\n",
    "# Training loop for contrastive learning\n",
    "def train_contrastive_model(model, criterion, optimizer, train_loader, val_loader, epochs=5):\n",
    "    for epoch in range(epochs):\n",
    "        model.train()\n",
    "        total_loss = 0\n",
    "        \n",
    "        for img1, img2, _ in train_loader:\n",
    "            img1, img2 = img1.to(device), img2.to(device)\n",
    "\n",
    "            optimizer.zero_grad()\n",
    "            z1 = model(img1)\n",
    "            z2 = model(img2)\n",
    "\n",
    "            loss = criterion(z1, z2)\n",
    "            loss.backward()\n",
    "            optimizer.step()\n",
    "            total_loss += loss.item()\n",
    "\n",
    "        avg_train_loss = total_loss / len(train_loader)\n",
    "\n",
    "        # Validation phase\n",
    "        model.eval()\n",
    "        total_val_loss = 0\n",
    "        with torch.no_grad():\n",
    "            for img1, img2, _ in val_loader:\n",
    "                img1, img2 = img1.to(device), img2.to(device)\n",
    "                \n",
    "                z1 = model(img1)\n",
    "                z2 = model(img2)\n",
    "\n",
    "                val_loss = criterion(z1, z2)\n",
    "                total_val_loss += val_loss.item()\n",
    "\n",
    "        avg_val_loss = total_val_loss / len(val_loader)\n",
    "\n",
    "        print(f\"Epoch {epoch+1}/{epochs}, Train Loss: {avg_train_loss:.4f}, Avg Val Loss: {avg_val_loss:.4f}\")\n"
   ]
  },
  {
   "cell_type": "code",
   "execution_count": 83,
   "metadata": {},
   "outputs": [
    {
     "name": "stdout",
     "output_type": "stream",
     "text": [
      "Epoch 1/5, Train Loss: 3.4675, Avg Val Loss: 3.4590\n",
      "Epoch 2/5, Train Loss: 3.4496, Avg Val Loss: 3.4215\n",
      "Epoch 3/5, Train Loss: 3.4259, Avg Val Loss: 3.3979\n",
      "Epoch 4/5, Train Loss: 3.4533, Avg Val Loss: 3.4613\n",
      "Epoch 5/5, Train Loss: 3.4428, Avg Val Loss: 3.1320\n"
     ]
    }
   ],
   "source": [
    "# Train the contrastive model\n",
    "\n",
    "model_contrast = ContrastiveModel(latent_dim=LATENT_DIM).to(device)\n",
    "contrastive_loss = ContrastiveLoss().to(device)\n",
    "optimizer = optim.Adam(model_contrast.parameters(), lr=1e-3)\n",
    "\n",
    "train_contrastive_model(model_contrast, contrastive_loss, optimizer ,ew_train_loader, ew_test_loader, epochs=5)\n"
   ]
  },
  {
   "cell_type": "markdown",
   "metadata": {},
   "source": [
    "# Anomaly detection "
   ]
  },
  {
   "cell_type": "code",
   "execution_count": 29,
   "metadata": {},
   "outputs": [],
   "source": [
    "import torch\n",
    "import torch.nn as nn\n",
    "\n",
    "class AnomalyDetectionModel(nn.Module):\n",
    "    def __init__(self, model):\n",
    "        super(AnomalyDetectionModel, self).__init__()\n",
    "        self.model = model  # Modèle de reconstruction pré-entraîné\n",
    "\n",
    "    def forward(self, x):\n",
    "        # Le modèle principal doit retourner une reconstruction\n",
    "        # Si le modèle retourne un tuple, on ne garde que la reconstruction\n",
    "        if isinstance(self.model(x), tuple):\n",
    "            x_reconstructed, _ = self.model(x)\n",
    "        else:\n",
    "            x_reconstructed = self.model(x)\n",
    "        return x_reconstructed\n",
    "\n",
    "    def compute_anomaly_score(self, x):\n",
    "        \"\"\"\n",
    "        Calcule le score d'anomalie pour chaque batch d'images.\n",
    "        \"\"\"\n",
    "        x_reconstructed = self.forward(x)  # Reconstruction\n",
    "        loss_fn = nn.MSELoss(reduction='none')  # MSE pixel par pixel\n",
    "        per_pixel_loss = loss_fn(x_reconstructed, x)  # Perte pixel par pixel\n",
    "        # Moyenne sur les dimensions des pixels (H, W, C) pour obtenir un score par image\n",
    "        anomaly_score = per_pixel_loss.mean(dim=(1, 2, 3))\n",
    "        return anomaly_score\n",
    "\n",
    "    def evaluate_anomaly_detection(self, dataloader):\n",
    "\n",
    "        self.model.eval()  # Mettre le modèle en mode évaluation\n",
    "        scores = []  # Liste pour stocker les scores\n",
    "        labels = []  # Liste pour stocker les labels\n",
    "        with torch.no_grad():  # Pas de calcul des gradients\n",
    "            for batch, label in dataloader:\n",
    "                # Charger les données et les labels sur le bon appareil (CPU/GPU)\n",
    "                x = batch.to(device)\n",
    "                label = label.to(device)\n",
    "                # Calculer les scores d'anomalie\n",
    "                score = self.compute_anomaly_score(x)\n",
    "                scores.extend(score.cpu().numpy())  # Convertir en numpy et ajouter à la liste\n",
    "                labels.extend(label.cpu().numpy())  # Convertir en numpy et ajouter à la liste\n",
    "        return scores, labels\n"
   ]
  },
  {
   "cell_type": "code",
   "execution_count": 30,
   "metadata": {},
   "outputs": [],
   "source": [
    "def compute_anomaly_score(x_reconstructed, x):\n",
    "\n",
    "    loss_fn = nn.MSELoss(reduction='none')  # MSE pixel par pixel\n",
    "    per_pixel_loss = loss_fn(x_reconstructed, x)  # Perte pixel par pixel\n",
    "    # Moyenne sur les dimensions des pixels (H, W, C) pour obtenir un score par image\n",
    "    anomaly_score = per_pixel_loss.mean(dim=(1, 2, 3))\n",
    "    return anomaly_score"
   ]
  },
  {
   "cell_type": "code",
   "execution_count": 31,
   "metadata": {},
   "outputs": [],
   "source": [
    "def plot_roc_curve(y_true, y_scores):\n",
    "\n",
    "    # Calcul des courbes ROC\n",
    "    fpr, tpr, thresholds = roc_curve(y_true, y_scores)\n",
    "    roc_auc = auc(fpr, tpr)\n",
    "\n",
    "    # Tracé de la courbe ROC\n",
    "    plt.figure(figsize=(8, 6))\n",
    "    plt.plot(fpr, tpr, color='darkorange', lw=2, label=f'ROC curve (AUC = {roc_auc:.2f})')\n",
    "    plt.plot([0, 1], [0, 1], color='navy', lw=2, linestyle='--', label='Chance level')\n",
    "    plt.xlabel('False Positive Rate')\n",
    "    plt.ylabel('True Positive Rate')\n",
    "    plt.title('Receiver Operating Characteristic Curve')\n",
    "    plt.legend(loc=\"lower right\")\n",
    "    plt.grid()\n",
    "    plt.show()"
   ]
  },
  {
   "cell_type": "markdown",
   "metadata": {},
   "source": [
    "# Résults"
   ]
  },
  {
   "cell_type": "code",
   "execution_count": 32,
   "metadata": {},
   "outputs": [
    {
     "data": {
      "image/png": "[encoded data removed]",
      "text/plain": [
       "<Figure size 800x600 with 1 Axes>"
      ]
     },
     "metadata": {},
     "output_type": "display_data"
    }
   ],
   "source": [
    "color_anomali = AnomalyDetectionModel(colorization_encoder)\n",
    "\n",
    "scores, labels = color_anomali.evaluate_anomaly_detection(bottle_test_loader)\n",
    "\n",
    "# Plotting roc curbe\n",
    "plot_roc_curve(labels, scores)"
   ]
  },
  {
   "cell_type": "code",
   "execution_count": 46,
   "metadata": {},
   "outputs": [
    {
     "data": {
      "image/png": "[encoded data removed]",
      "text/plain": [
       "<Figure size 800x600 with 1 Axes>"
      ]
     },
     "metadata": {},
     "output_type": "display_data"
    }
   ],
   "source": [
    "inpainting_anomali = AnomalyDetectionModel(inpainting_encoder)\n",
    "\n",
    "\n",
    "scores, labels = inpainting_anomali.evaluate_anomaly_detection(bottle_test_loader)\n",
    "\n",
    "# Plotting roc curbe\n",
    "plot_roc_curve(labels, scores)"
   ]
  },
  {
   "cell_type": "code",
   "execution_count": 47,
   "metadata": {},
   "outputs": [
    {
     "data": {
      "image/png": "[encoded data removed]",
      "text/plain": [
       "<Figure size 800x600 with 1 Axes>"
      ]
     },
     "metadata": {},
     "output_type": "display_data"
    }
   ],
   "source": [
    "mae_anomali = AnomalyDetectionModel(mae_encoder)\n",
    "\n",
    "\n",
    "scores, labels = mae_anomali.evaluate_anomaly_detection(bottle_test_loader)\n",
    "\n",
    "# Plotting roc curbe\n",
    "plot_roc_curve(labels, scores)"
   ]
  },
  {
   "cell_type": "code",
   "execution_count": null,
   "metadata": {},
   "outputs": [],
   "source": []
  },
  {
   "cell_type": "code",
   "execution_count": null,
   "metadata": {},
   "outputs": [],
   "source": []
  }
 ],
 "metadata": {
  "kernelspec": {
   "display_name": "HDDL",
   "language": "python",
   "name": "python3"
  },
  "language_info": {
   "codemirror_mode": {
    "name": "ipython",
    "version": 3
   },
   "file_extension": ".py",
   "mimetype": "text/x-python",
   "name": "python",
   "nbconvert_exporter": "python",
   "pygments_lexer": "ipython3",
   "version": "3.8.20"
  }
 },
 "nbformat": 4,
 "nbformat_minor": 2
}

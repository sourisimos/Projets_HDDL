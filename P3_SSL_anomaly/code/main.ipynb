{
 "cells": [
  {
   "cell_type": "markdown",
   "metadata": {},
   "source": [
    "# Self-supervised Learning\n",
    "The objective of this lab project is to go further in the understanding of Self-Supervised Learning (SSL). By the end of the notebook, you will\n",
    "- Train models using different pretext tasks: colorizing, inpainting, masking reconstruction.\n",
    "- Fine-tune the models with the downstream task of interst.\n",
    "- Compare the performance of the different backbones obtained from the different downstream tasks."
   ]
  },
  {
   "cell_type": "markdown",
   "metadata": {},
   "source": [
    "## Library imports"
   ]
  },
  {
   "cell_type": "code",
   "execution_count": 56,
   "metadata": {},
   "outputs": [],
   "source": [
    "import torch\n",
    "import torch.nn as nn\n",
    "import torch.optim as optim\n",
    "import torch.nn.functional as F\n",
    "from torchvision import datasets, transforms\n",
    "from torch.utils.data import DataLoader, random_split, Dataset\n",
    "import numpy as np\n",
    "import matplotlib.pyplot as plt\n",
    "from sklearn.metrics import roc_curve, auc\n",
    "\n",
    "import os"
   ]
  },
  {
   "cell_type": "markdown",
   "metadata": {},
   "source": [
    "## Pretext and Downstream Tasks\n",
    "\n",
    "We will train three different models using three different pretext tasks. All three models will be trained on the SVHN dataset. The three models are the following:\n",
    "- A Colorization Neural Network\n",
    "- An Inpainting Neural Network\n",
    "- A Masked Autoencoder\n",
    "\n",
    "We will build a common architecture so that all three models have as similar architectures as possible. The common architecture will consist of an encoder and a decoder. Once the models pre-trained on their respective pretext tasks, we will use the pre-trained encoders to evaluate the learnt representations on two new downstream task: image classification on MNIST and on SVHN. To that end, we will perform a linear evaluation protocol, by freezing the weights of the pre-trained encoders, and training a linear classifier on the learnt representations. "
   ]
  },
  {
   "cell_type": "markdown",
   "metadata": {},
   "source": [
    "# Hyperparameters"
   ]
  },
  {
   "cell_type": "code",
   "execution_count": 77,
   "metadata": {},
   "outputs": [],
   "source": [
    "BATCH_SIZE = 128\n",
    "RESIZE = 32\n",
    "LATENT_DIM = 32"
   ]
  },
  {
   "cell_type": "markdown",
   "metadata": {},
   "source": [
    "## Data Preparation"
   ]
  },
  {
   "cell_type": "markdown",
   "metadata": {},
   "source": [
    "Download the datasets"
   ]
  },
  {
   "cell_type": "markdown",
   "metadata": {},
   "source": [
    "Les données ont été convertit de png à jpg pour diminuer largement la taille des données (de 5,1Go à 165Mo) et augmenter largement la vitesse de calcul.\n",
    "Les performance sont moins bonnes, cependant comme il s'agit d'une étude comparative et non une étude de performance, on s'attends à avoir une diminution de performance globale, ce qui n'est donc pas dérangeant car un modèle n'est pas favorisé plus qu'un autre. Il est donc possible de faire une comparaison des modèles.\n",
    "A la fin, une étude de performance sera effectué avec le modèle le plus prometeur. \n",
    "\n",
    "Les datasets ont été modifié pour correspondre au demande du projet et son téléchargeable depuis un dépot github séparé du code."
   ]
  },
  {
   "cell_type": "code",
   "execution_count": 58,
   "metadata": {},
   "outputs": [],
   "source": [
    "# Crée un chemin relatif basé sur le dossier actuel\n",
    "dataset_path = os.path.join(os.getcwd(), '../data/')\n",
    "\n",
    "if not os.path.exists(dataset_path):\n",
    "    os.makedirs(dataset_path, exist_ok=True)  # Crée le dossier et ses parents si nécessaire\n",
    "\n",
    "    !git clone https://github.com/sourisimos/DATA_P3HDDL_MVTEC.git ../data/mvtec #Cloning mvtec dataset \n",
    "    !git clone https://github.com/sourisimos/DATA_P3HDDL_EW.git ../data/ew #Cloning ew datasets\n",
    "\n",
    "    print(f\"Dossiers téléchargés dans le dossier '{dataset_path}'.\")\n"
   ]
  },
  {
   "cell_type": "markdown",
   "metadata": {},
   "source": [
    "## Engine wiring dataset"
   ]
  },
  {
   "cell_type": "code",
   "execution_count": 78,
   "metadata": {},
   "outputs": [],
   "source": [
    "# Define the transformations to apply to EW\n",
    "\n",
    "transform_ew_val = transforms.Compose([\n",
    "    transforms.Resize((RESIZE, RESIZE)),\n",
    "    transforms.ToTensor()\n",
    "\n",
    "])\n",
    "\n",
    "transform_ew_train = transforms.Compose([\n",
    "    transforms.Resize((RESIZE,RESIZE)),\n",
    "    transforms.RandomRotation(degrees=30),\n",
    "    transforms.RandomHorizontalFlip(),\n",
    "    transforms.ColorJitter(brightness=0.2, contrast=0.2, saturation=0.2, hue=0.1),\n",
    "    transforms.ToTensor()\n",
    "])\n",
    "\n",
    "\n",
    "# Load EW dataset for train test and creating val\n",
    "# Training\n",
    "ew_train_dataset = datasets.ImageFolder(root='../data/ew/engine_wiring/train', transform=transform_ew_train)\n",
    "ew_train_loader = DataLoader(ew_train_dataset, batch_size=BATCH_SIZE, shuffle=True )\n",
    "\n",
    "# Test\n",
    "ew_test_dataset = datasets.ImageFolder(root='../data/ew/engine_wiring/test', transform=transform_ew_val) \n",
    "ew_test_loader = DataLoader(ew_test_dataset, batch_size=BATCH_SIZE, shuffle=True)\n",
    "\n",
    "\n",
    "# Device configuration\n",
    "\n",
    "device = torch.device('cuda' if torch.cuda.is_available() else 'cpu')\n"
   ]
  },
  {
   "cell_type": "markdown",
   "metadata": {},
   "source": [
    "## MVtec datasets"
   ]
  },
  {
   "cell_type": "code",
   "execution_count": 65,
   "metadata": {},
   "outputs": [],
   "source": [
    "# Define the transformations to apply to the images\n",
    "transform_mvtec = transforms.Compose([\n",
    "    transforms.Resize((128, 128)),  \n",
    "    transforms.ToTensor(),  \n",
    "])\n",
    "\n",
    "# Function to load the dataset mvtec \n",
    "def load_mvt_dataset(root='../data/mvtec/mvtec_anomaly_detection', batch_size=64, restricted = True):\n",
    "    # List of categories you want to load\n",
    "    categories = ['bottle', 'cable','capsule', 'carpet', 'grid','hazelnut', 'leather', 'metal_nut', 'pill', 'screw', 'tile', 'toothbrush', 'transistor', 'wood', 'zipper']  # Add other categories as needed\n",
    "    # Restricted are just the essential one (for the academ project )\n",
    "    if restricted: \n",
    "        categories = ['bottle','capsule', 'hazelnut', 'toothbrush']\n",
    "        \n",
    "    # Create dictionaries to hold loaders for training and test sets\n",
    "    train_loaders = {}\n",
    "    test_loaders = {}\n",
    "    \n",
    "    for category in categories:\n",
    "\n",
    "        train_dataset = datasets.ImageFolder(root=f'{root}/{category}/train', transform=transform_mvtec)\n",
    "        train_loader = DataLoader(train_dataset, batch_size=batch_size, shuffle=True)\n",
    "        train_loaders[category] = train_loader\n",
    "        \n",
    "        test_dataset = datasets.ImageFolder(root=f'{root}/{category}/test', transform=transform_mvtec)\n",
    "        test_loader = DataLoader(test_dataset, batch_size=batch_size, shuffle=False)\n",
    "        test_loaders[category] = test_loader\n",
    "        \n",
    "    return train_loaders, test_loaders\n",
    "\n",
    "train_loaders, test_loaders = load_mvt_dataset()\n",
    "\n",
    "# Accessing a specific category's data loader\n",
    "bottle_train_loader = train_loaders['bottle']\n",
    "bottle_test_loader = test_loaders['bottle']"
   ]
  },
  {
   "cell_type": "markdown",
   "metadata": {},
   "source": [
    "## Shared architecture\n",
    "We will create a shared architecture with the following layers:\n",
    "- The encoder (in sequential order):\n",
    "    - A convolution with 64 filters, kernel size 4, stride 2, padding 1\n",
    "    - A ReLU activation\n",
    "    - A convolution with 128 filters, kernel size 4, stride2, padding 1\n",
    "    - A ReLU activation\n",
    "    - A convolution with `latent_dim`, kernel size 4, stride 2, padding 1\n",
    "    - A ReLU activation\n",
    "The encoder should take the number of channels of the input `in_channels` and the hidden dimension `latent_dim` as arguments.\n",
    "- The decoder (in secuential ) order:\n",
    "    - A Transpose convolution with 128 filters, kernel size 4, padding 1\n",
    "    - A ReLU activation\n",
    "    - A convolution with 16428 filters, kernel size 4, stride2, padding 1\n",
    "    - A ReLU activation\n",
    "    - A convolution with `out_channels` filters, kernel size 4, stride 2, padding 1\n",
    "    - A ReLU activation\n",
    "The encoder should take the number of channels of the output `out_channels` and the hidden dimension `latent_dim` as arguments."
   ]
  },
  {
   "cell_type": "code",
   "execution_count": 79,
   "metadata": {},
   "outputs": [],
   "source": [
    "class Encoder(nn.Module):\n",
    "    def __init__(self, in_channels=3, latent_dim=128):\n",
    "        super(Encoder, self).__init__()\n",
    "        self.encoder = nn.Sequential(\n",
    "            nn.Conv2d(in_channels, 64, kernel_size=4, stride=2, padding=1),  # 32x32 -> 16x16\n",
    "            nn.ReLU(),\n",
    "            nn.Conv2d(64, 128, kernel_size=4, stride=2, padding=1),  # 16x16 -> 8x8\n",
    "            nn.ReLU(),\n",
    "            nn.Conv2d(128, 256, kernel_size=4, stride=2, padding=1),  # 8x8 -> 4x4\n",
    "            nn.ReLU(),\n",
    "            nn.Conv2d(256, latent_dim, kernel_size=4, stride=2, padding=1),  # 4x4 -> 2x2\n",
    "            nn.ReLU(),\n",
    "        )\n",
    "\n",
    "    def forward(self, x):\n",
    "        return self.encoder(x)\n",
    "\n",
    "class Decoder(nn.Module):\n",
    "    def __init__(self, latent_dim=128, out_channels=3):\n",
    "        super(Decoder, self).__init__()\n",
    "        self.decoder = nn.Sequential(\n",
    "            nn.ConvTranspose2d(latent_dim, 256, kernel_size=4, stride=2, padding=1),  # 2x2 -> 4x4\n",
    "            nn.ReLU(),\n",
    "            nn.ConvTranspose2d(256, 128, kernel_size=4, stride=2, padding=1),  # 4x4 -> 8x8\n",
    "            nn.ReLU(),\n",
    "            nn.ConvTranspose2d(128, 64, kernel_size=4, stride=2, padding=1),  # 8x8 -> 16x16\n",
    "            nn.ReLU(),\n",
    "            nn.ConvTranspose2d(64, out_channels, kernel_size=4, stride=2, padding=1),  # 16x16 -> 32x32\n",
    "            nn.Sigmoid(),\n",
    "        )\n",
    "\n",
    "    def forward(self, x):\n",
    "        return self.decoder(x)"
   ]
  },
  {
   "cell_type": "code",
   "execution_count": 80,
   "metadata": {},
   "outputs": [],
   "source": [
    "def train_ssl_model(model, \n",
    "                    train_loader, \n",
    "                    val_loader, \n",
    "                    criterion,\n",
    "                    optimizer,\n",
    "                    device=device,\n",
    "                    epochs=5):\n",
    "\n",
    "    for epoch in range(epochs):\n",
    "        model.to(device)\n",
    "        model.train()\n",
    "        total_train_loss = 0\n",
    "        for images, _ in train_loader:\n",
    "            images = images.to(device)\n",
    "            optimizer.zero_grad()\n",
    "            output, _ = model(images)\n",
    "            loss = criterion(output, images)\n",
    "            loss.backward()\n",
    "            optimizer.step()\n",
    "            total_train_loss += loss.item()\n",
    "\n",
    "        avg_train_loss = total_train_loss / len(train_loader)\n",
    "\n",
    "        model.eval()\n",
    "        total_val_loss = 0\n",
    "        with torch.no_grad():\n",
    "            for images, _ in val_loader:\n",
    "                images = images.to(device)\n",
    "                output, _ = model(images)\n",
    "                val_loss = criterion(output, images)\n",
    "                total_val_loss += val_loss.item()\n",
    "\n",
    "        avg_val_loss = total_val_loss / len(val_loader)\n",
    "\n",
    "        print(f\"Epoch {epoch+1}/{epochs}, Train Loss: {avg_train_loss:.4f}, Avg Val Loss: {avg_val_loss:.4f}\")\n",
    "    \n",
    "    return model"
   ]
  },
  {
   "cell_type": "markdown",
   "metadata": {},
   "source": [
    "# Colorization model "
   ]
  },
  {
   "cell_type": "markdown",
   "metadata": {},
   "source": [
    "a de grande chance d'être nul dans le cadre de nos données"
   ]
  },
  {
   "cell_type": "code",
   "execution_count": 81,
   "metadata": {},
   "outputs": [],
   "source": [
    "class ColorizationModel(nn.Module):\n",
    "    def __init__(self, latent_dim=LATENT_DIM):\n",
    "        super(ColorizationModel, self).__init__()\n",
    "        self.encoder = Encoder(latent_dim=latent_dim, in_channels=1)  # Input grayscale\n",
    "        self.decoder = Decoder(latent_dim=latent_dim, out_channels=3)  # Predict RGB\n",
    "\n",
    "    def forward(self, x):\n",
    "        grayscale_x = transforms.Grayscale()(x)  # Convert RGB to Grayscale\n",
    "        z = self.encoder(grayscale_x)\n",
    "        return self.decoder(z), grayscale_x"
   ]
  },
  {
   "cell_type": "code",
   "execution_count": 82,
   "metadata": {},
   "outputs": [
    {
     "name": "stdout",
     "output_type": "stream",
     "text": [
      "Epoch 1/50, Train Loss: 0.1042, Avg Val Loss: 0.0932\n",
      "Epoch 2/50, Train Loss: 0.1040, Avg Val Loss: 0.0905\n",
      "Epoch 3/50, Train Loss: 0.0964, Avg Val Loss: 0.0785\n",
      "Epoch 4/50, Train Loss: 0.0835, Avg Val Loss: 0.0586\n",
      "Epoch 5/50, Train Loss: 0.0669, Avg Val Loss: 0.0509\n",
      "Epoch 6/50, Train Loss: 0.0563, Avg Val Loss: 0.0495\n",
      "Epoch 7/50, Train Loss: 0.0541, Avg Val Loss: 0.0445\n",
      "Epoch 8/50, Train Loss: 0.0503, Avg Val Loss: 0.0433\n",
      "Epoch 9/50, Train Loss: 0.0488, Avg Val Loss: 0.0425\n",
      "Epoch 10/50, Train Loss: 0.0446, Avg Val Loss: 0.0441\n",
      "Epoch 11/50, Train Loss: 0.0441, Avg Val Loss: 0.0442\n",
      "Epoch 12/50, Train Loss: 0.0402, Avg Val Loss: 0.0439\n",
      "Epoch 13/50, Train Loss: 0.0405, Avg Val Loss: 0.0448\n",
      "Epoch 14/50, Train Loss: 0.0402, Avg Val Loss: 0.0434\n",
      "Epoch 15/50, Train Loss: 0.0387, Avg Val Loss: 0.0413\n",
      "Epoch 16/50, Train Loss: 0.0385, Avg Val Loss: 0.0405\n",
      "Epoch 17/50, Train Loss: 0.0375, Avg Val Loss: 0.0437\n",
      "Epoch 18/50, Train Loss: 0.0360, Avg Val Loss: 0.0405\n",
      "Epoch 19/50, Train Loss: 0.0366, Avg Val Loss: 0.0385\n",
      "Epoch 20/50, Train Loss: 0.0353, Avg Val Loss: 0.0379\n",
      "Epoch 21/50, Train Loss: 0.0353, Avg Val Loss: 0.0394\n",
      "Epoch 22/50, Train Loss: 0.0326, Avg Val Loss: 0.0383\n",
      "Epoch 23/50, Train Loss: 0.0318, Avg Val Loss: 0.0387\n",
      "Epoch 24/50, Train Loss: 0.0316, Avg Val Loss: 0.0393\n",
      "Epoch 25/50, Train Loss: 0.0302, Avg Val Loss: 0.0375\n",
      "Epoch 26/50, Train Loss: 0.0305, Avg Val Loss: 0.0351\n",
      "Epoch 27/50, Train Loss: 0.0292, Avg Val Loss: 0.0339\n",
      "Epoch 28/50, Train Loss: 0.0297, Avg Val Loss: 0.0330\n",
      "Epoch 29/50, Train Loss: 0.0288, Avg Val Loss: 0.0321\n",
      "Epoch 30/50, Train Loss: 0.0276, Avg Val Loss: 0.0318\n",
      "Epoch 31/50, Train Loss: 0.0267, Avg Val Loss: 0.0315\n",
      "Epoch 32/50, Train Loss: 0.0271, Avg Val Loss: 0.0299\n",
      "Epoch 33/50, Train Loss: 0.0268, Avg Val Loss: 0.0308\n",
      "Epoch 34/50, Train Loss: 0.0254, Avg Val Loss: 0.0319\n",
      "Epoch 35/50, Train Loss: 0.0264, Avg Val Loss: 0.0295\n",
      "Epoch 36/50, Train Loss: 0.0244, Avg Val Loss: 0.0285\n",
      "Epoch 37/50, Train Loss: 0.0247, Avg Val Loss: 0.0288\n",
      "Epoch 38/50, Train Loss: 0.0244, Avg Val Loss: 0.0291\n",
      "Epoch 39/50, Train Loss: 0.0246, Avg Val Loss: 0.0288\n",
      "Epoch 40/50, Train Loss: 0.0244, Avg Val Loss: 0.0279\n",
      "Epoch 41/50, Train Loss: 0.0246, Avg Val Loss: 0.0270\n",
      "Epoch 42/50, Train Loss: 0.0232, Avg Val Loss: 0.0279\n",
      "Epoch 43/50, Train Loss: 0.0232, Avg Val Loss: 0.0265\n",
      "Epoch 44/50, Train Loss: 0.0220, Avg Val Loss: 0.0258\n",
      "Epoch 45/50, Train Loss: 0.0227, Avg Val Loss: 0.0270\n",
      "Epoch 46/50, Train Loss: 0.0240, Avg Val Loss: 0.0259\n",
      "Epoch 47/50, Train Loss: 0.0229, Avg Val Loss: 0.0251\n",
      "Epoch 48/50, Train Loss: 0.0218, Avg Val Loss: 0.0251\n",
      "Epoch 49/50, Train Loss: 0.0221, Avg Val Loss: 0.0257\n",
      "Epoch 50/50, Train Loss: 0.0204, Avg Val Loss: 0.0249\n"
     ]
    }
   ],
   "source": [
    "colorization_model = ColorizationModel(latent_dim=LATENT_DIM)\n",
    "colorization_encoder = train_ssl_model(colorization_model, \n",
    "                                       ew_train_loader, \n",
    "                                       ew_test_loader, \n",
    "                                       criterion=nn.MSELoss(), \n",
    "                                       optimizer=optim.Adam(colorization_model.parameters(),lr=0.001),\n",
    "                                       epochs = 50\n",
    "                                       )"
   ]
  },
  {
   "cell_type": "markdown",
   "metadata": {},
   "source": [
    "# Inpainting model "
   ]
  },
  {
   "cell_type": "code",
   "execution_count": 43,
   "metadata": {},
   "outputs": [],
   "source": [
    "class InpaintingModel(nn.Module):\n",
    "    def __init__(self, latent_dim=128, mask_size=8):\n",
    "        super(InpaintingModel, self).__init__()\n",
    "        self.encoder = Encoder(latent_dim=latent_dim)\n",
    "        self.decoder = Decoder(latent_dim=latent_dim)\n",
    "        self.mask_size = mask_size\n",
    "\n",
    "    def forward(self, x):\n",
    "        x_masked = self.apply_mask(x)\n",
    "        z = self.encoder(x_masked)\n",
    "        return self.decoder(z), x_masked\n",
    "    \n",
    "    def apply_mask(self, x):\n",
    "        masked_x = x.clone()\n",
    "\n",
    "        for i in range(masked_x.size(0)):\n",
    "            ul_x = np.random.randint(0, x.size(2) - self.mask_size + 1)\n",
    "            ul_y = np.random.randint(0, x.size(3) - self.mask_size + 1)\n",
    "            masked_x[i, :, ul_x:ul_x+self.mask_size, ul_y:ul_y+self.mask_size] = 0\n",
    "\n",
    "        return masked_x"
   ]
  },
  {
   "cell_type": "code",
   "execution_count": 45,
   "metadata": {},
   "outputs": [
    {
     "name": "stdout",
     "output_type": "stream",
     "text": [
      "Epoch 1/50, Train Loss: 0.1017, Avg Val Loss: 0.0916\n",
      "Epoch 2/50, Train Loss: 0.1007, Avg Val Loss: 0.0893\n",
      "Epoch 3/50, Train Loss: 0.0965, Avg Val Loss: 0.0744\n",
      "Epoch 4/50, Train Loss: 0.0777, Avg Val Loss: 0.0541\n",
      "Epoch 5/50, Train Loss: 0.0664, Avg Val Loss: 0.0493\n",
      "Epoch 6/50, Train Loss: 0.0588, Avg Val Loss: 0.0478\n",
      "Epoch 7/50, Train Loss: 0.0542, Avg Val Loss: 0.0437\n",
      "Epoch 8/50, Train Loss: 0.0529, Avg Val Loss: 0.0435\n",
      "Epoch 9/50, Train Loss: 0.0489, Avg Val Loss: 0.0440\n",
      "Epoch 10/50, Train Loss: 0.0446, Avg Val Loss: 0.0465\n",
      "Epoch 11/50, Train Loss: 0.0443, Avg Val Loss: 0.0438\n",
      "Epoch 12/50, Train Loss: 0.0417, Avg Val Loss: 0.0430\n",
      "Epoch 13/50, Train Loss: 0.0410, Avg Val Loss: 0.0427\n",
      "Epoch 14/50, Train Loss: 0.0406, Avg Val Loss: 0.0403\n",
      "Epoch 15/50, Train Loss: 0.0379, Avg Val Loss: 0.0392\n",
      "Epoch 16/50, Train Loss: 0.0375, Avg Val Loss: 0.0423\n",
      "Epoch 17/50, Train Loss: 0.0364, Avg Val Loss: 0.0416\n",
      "Epoch 18/50, Train Loss: 0.0349, Avg Val Loss: 0.0398\n",
      "Epoch 19/50, Train Loss: 0.0354, Avg Val Loss: 0.0393\n",
      "Epoch 20/50, Train Loss: 0.0350, Avg Val Loss: 0.0406\n",
      "Epoch 21/50, Train Loss: 0.0328, Avg Val Loss: 0.0380\n",
      "Epoch 22/50, Train Loss: 0.0330, Avg Val Loss: 0.0361\n",
      "Epoch 23/50, Train Loss: 0.0322, Avg Val Loss: 0.0352\n",
      "Epoch 24/50, Train Loss: 0.0324, Avg Val Loss: 0.0367\n",
      "Epoch 25/50, Train Loss: 0.0313, Avg Val Loss: 0.0362\n",
      "Epoch 26/50, Train Loss: 0.0305, Avg Val Loss: 0.0352\n",
      "Epoch 27/50, Train Loss: 0.0305, Avg Val Loss: 0.0334\n",
      "Epoch 28/50, Train Loss: 0.0300, Avg Val Loss: 0.0335\n",
      "Epoch 29/50, Train Loss: 0.0294, Avg Val Loss: 0.0330\n",
      "Epoch 30/50, Train Loss: 0.0290, Avg Val Loss: 0.0327\n",
      "Epoch 31/50, Train Loss: 0.0277, Avg Val Loss: 0.0333\n",
      "Epoch 32/50, Train Loss: 0.0277, Avg Val Loss: 0.0318\n",
      "Epoch 33/50, Train Loss: 0.0265, Avg Val Loss: 0.0319\n",
      "Epoch 34/50, Train Loss: 0.0262, Avg Val Loss: 0.0313\n",
      "Epoch 35/50, Train Loss: 0.0266, Avg Val Loss: 0.0338\n",
      "Epoch 36/50, Train Loss: 0.0258, Avg Val Loss: 0.0311\n",
      "Epoch 37/50, Train Loss: 0.0279, Avg Val Loss: 0.0298\n",
      "Epoch 38/50, Train Loss: 0.0264, Avg Val Loss: 0.0292\n",
      "Epoch 39/50, Train Loss: 0.0252, Avg Val Loss: 0.0300\n",
      "Epoch 40/50, Train Loss: 0.0251, Avg Val Loss: 0.0302\n",
      "Epoch 41/50, Train Loss: 0.0246, Avg Val Loss: 0.0291\n",
      "Epoch 42/50, Train Loss: 0.0254, Avg Val Loss: 0.0285\n",
      "Epoch 43/50, Train Loss: 0.0244, Avg Val Loss: 0.0273\n",
      "Epoch 44/50, Train Loss: 0.0238, Avg Val Loss: 0.0261\n",
      "Epoch 45/50, Train Loss: 0.0243, Avg Val Loss: 0.0285\n",
      "Epoch 46/50, Train Loss: 0.0240, Avg Val Loss: 0.0270\n",
      "Epoch 47/50, Train Loss: 0.0233, Avg Val Loss: 0.0271\n",
      "Epoch 48/50, Train Loss: 0.0238, Avg Val Loss: 0.0267\n",
      "Epoch 49/50, Train Loss: 0.0230, Avg Val Loss: 0.0259\n",
      "Epoch 50/50, Train Loss: 0.0224, Avg Val Loss: 0.0254\n"
     ]
    }
   ],
   "source": [
    "inpainting_model = InpaintingModel(latent_dim=LATENT_DIM, mask_size=8)\n",
    "inpainting_encoder = train_ssl_model(inpainting_model,\n",
    "                                     ew_train_loader, \n",
    "                                     ew_test_loader, \n",
    "                                     criterion=nn.MSELoss(), \n",
    "                                     optimizer=optim.Adam(inpainting_model.parameters(),lr=0.001),\n",
    "                                     epochs = 50\n",
    "                                     )"
   ]
  },
  {
   "cell_type": "markdown",
   "metadata": {},
   "source": [
    "# Masked AE Model"
   ]
  },
  {
   "cell_type": "code",
   "execution_count": 47,
   "metadata": {},
   "outputs": [],
   "source": [
    "class MaskedAutoencoderModel(nn.Module):\n",
    "    def __init__(self, latent_dim=32, mask_ratio=1/16):\n",
    "        super(MaskedAutoencoderModel, self).__init__()\n",
    "        self.encoder = Encoder(latent_dim=latent_dim)\n",
    "        self.decoder = Decoder(latent_dim=latent_dim)\n",
    "        self.mask_ratio = mask_ratio\n",
    "\n",
    "    def forward(self, x):\n",
    "        x_masked = self.apply_mask(x)\n",
    "        z = self.encoder(x_masked)\n",
    "        return self.decoder(z), x_masked\n",
    "    \n",
    "    def apply_mask(self, x):\n",
    "        x_masked = x.clone()\n",
    "        mask = torch.rand_like(x[:, 0, :, :]) < self.mask_ratio\n",
    "        mask = mask.unsqueeze(1).repeat(1, x.size(1), 1, 1)\n",
    "        x_masked[mask] = 0\n",
    "        return x_masked"
   ]
  },
  {
   "cell_type": "code",
   "execution_count": 48,
   "metadata": {},
   "outputs": [
    {
     "name": "stdout",
     "output_type": "stream",
     "text": [
      "Epoch 1/50, Train Loss: 0.1016, Avg Val Loss: 0.0907\n",
      "Epoch 2/50, Train Loss: 0.0994, Avg Val Loss: 0.0790\n",
      "Epoch 3/50, Train Loss: 0.0858, Avg Val Loss: 0.0605\n",
      "Epoch 4/50, Train Loss: 0.0678, Avg Val Loss: 0.0553\n",
      "Epoch 5/50, Train Loss: 0.0589, Avg Val Loss: 0.0494\n",
      "Epoch 6/50, Train Loss: 0.0540, Avg Val Loss: 0.0463\n",
      "Epoch 7/50, Train Loss: 0.0516, Avg Val Loss: 0.0439\n",
      "Epoch 8/50, Train Loss: 0.0483, Avg Val Loss: 0.0453\n",
      "Epoch 9/50, Train Loss: 0.0463, Avg Val Loss: 0.0455\n",
      "Epoch 10/50, Train Loss: 0.0440, Avg Val Loss: 0.0445\n",
      "Epoch 11/50, Train Loss: 0.0418, Avg Val Loss: 0.0432\n",
      "Epoch 12/50, Train Loss: 0.0403, Avg Val Loss: 0.0449\n",
      "Epoch 13/50, Train Loss: 0.0397, Avg Val Loss: 0.0450\n",
      "Epoch 14/50, Train Loss: 0.0380, Avg Val Loss: 0.0429\n",
      "Epoch 15/50, Train Loss: 0.0373, Avg Val Loss: 0.0410\n",
      "Epoch 16/50, Train Loss: 0.0364, Avg Val Loss: 0.0441\n",
      "Epoch 17/50, Train Loss: 0.0358, Avg Val Loss: 0.0421\n",
      "Epoch 18/50, Train Loss: 0.0355, Avg Val Loss: 0.0412\n",
      "Epoch 19/50, Train Loss: 0.0352, Avg Val Loss: 0.0391\n",
      "Epoch 20/50, Train Loss: 0.0328, Avg Val Loss: 0.0388\n",
      "Epoch 21/50, Train Loss: 0.0325, Avg Val Loss: 0.0390\n",
      "Epoch 22/50, Train Loss: 0.0307, Avg Val Loss: 0.0404\n",
      "Epoch 23/50, Train Loss: 0.0334, Avg Val Loss: 0.0368\n",
      "Epoch 24/50, Train Loss: 0.0315, Avg Val Loss: 0.0355\n",
      "Epoch 25/50, Train Loss: 0.0303, Avg Val Loss: 0.0349\n",
      "Epoch 26/50, Train Loss: 0.0307, Avg Val Loss: 0.0340\n",
      "Epoch 27/50, Train Loss: 0.0293, Avg Val Loss: 0.0328\n",
      "Epoch 28/50, Train Loss: 0.0272, Avg Val Loss: 0.0334\n",
      "Epoch 29/50, Train Loss: 0.0271, Avg Val Loss: 0.0320\n",
      "Epoch 30/50, Train Loss: 0.0274, Avg Val Loss: 0.0321\n",
      "Epoch 31/50, Train Loss: 0.0258, Avg Val Loss: 0.0315\n",
      "Epoch 32/50, Train Loss: 0.0262, Avg Val Loss: 0.0330\n",
      "Epoch 33/50, Train Loss: 0.0272, Avg Val Loss: 0.0326\n",
      "Epoch 34/50, Train Loss: 0.0266, Avg Val Loss: 0.0323\n",
      "Epoch 35/50, Train Loss: 0.0252, Avg Val Loss: 0.0301\n",
      "Epoch 36/50, Train Loss: 0.0252, Avg Val Loss: 0.0307\n",
      "Epoch 37/50, Train Loss: 0.0252, Avg Val Loss: 0.0296\n",
      "Epoch 38/50, Train Loss: 0.0258, Avg Val Loss: 0.0288\n",
      "Epoch 39/50, Train Loss: 0.0247, Avg Val Loss: 0.0285\n",
      "Epoch 40/50, Train Loss: 0.0231, Avg Val Loss: 0.0278\n",
      "Epoch 41/50, Train Loss: 0.0246, Avg Val Loss: 0.0288\n",
      "Epoch 42/50, Train Loss: 0.0241, Avg Val Loss: 0.0276\n",
      "Epoch 43/50, Train Loss: 0.0233, Avg Val Loss: 0.0265\n",
      "Epoch 44/50, Train Loss: 0.0229, Avg Val Loss: 0.0261\n",
      "Epoch 45/50, Train Loss: 0.0225, Avg Val Loss: 0.0260\n",
      "Epoch 46/50, Train Loss: 0.0224, Avg Val Loss: 0.0246\n",
      "Epoch 47/50, Train Loss: 0.0222, Avg Val Loss: 0.0255\n",
      "Epoch 48/50, Train Loss: 0.0216, Avg Val Loss: 0.0241\n",
      "Epoch 49/50, Train Loss: 0.0214, Avg Val Loss: 0.0245\n",
      "Epoch 50/50, Train Loss: 0.0217, Avg Val Loss: 0.0234\n"
     ]
    }
   ],
   "source": [
    "mae_model = MaskedAutoencoderModel(latent_dim=LATENT_DIM, mask_ratio=1/16)\n",
    "mae_encoder = train_ssl_model(mae_model,\n",
    "                              ew_train_loader, \n",
    "                              ew_test_loader, \n",
    "                              criterion=nn.MSELoss(), \n",
    "                              optimizer=optim.Adam(mae_model.parameters(),lr=0.001),\n",
    "                              epochs = 50\n",
    "                              )"
   ]
  },
  {
   "cell_type": "markdown",
   "metadata": {},
   "source": [
    "# Contrastive Model"
   ]
  },
  {
   "cell_type": "markdown",
   "metadata": {},
   "source": [
    "## Specific datas for contrastive model"
   ]
  },
  {
   "cell_type": "code",
   "execution_count": 139,
   "metadata": {},
   "outputs": [],
   "source": [
    "from torchvision import datasets, transforms\n",
    "\n",
    "# Définissez les transformations\n",
    "transform_train_cm = transforms.Compose([\n",
    "    transforms.Resize((RESIZE, RESIZE)),\n",
    "    transforms.RandomRotation(degrees=30),\n",
    "    transforms.RandomHorizontalFlip(),\n",
    "    transforms.ColorJitter(brightness=0.2, contrast=0.2, saturation=0.2, hue=0.1),\n",
    "    transforms.ToTensor()\n",
    "])\n",
    "\n",
    "transform_val_cm = transforms.Compose([\n",
    "    transforms.Resize((RESIZE, RESIZE)),\n",
    "    transforms.ToTensor()\n",
    "])\n",
    "\n",
    "\n",
    "# Define the Contrastive Dataset\n",
    "class ContrastiveDataset(Dataset):\n",
    "    def __init__(self, dataset, transform=None):\n",
    "        self.dataset = dataset\n",
    "        self.transform = transform\n",
    "\n",
    "    def __len__(self):\n",
    "        return len(self.dataset)\n",
    "\n",
    "    def __getitem__(self, idx):\n",
    "        # Get original image and its label (if applicable, ignored here)\n",
    "        img, label = self.dataset[idx]\n",
    "        \n",
    "        # Apply transformation to create a positive pair\n",
    "        img1 = self.transform(img) if self.transform else img\n",
    "        img2 = self.transform(img) if self.transform else img\n",
    "        \n",
    "        return img1.float(), img2.float(), label\n",
    "    \n",
    "# Chargez les datasets d'origine avec ImageFolder sans transformation\n",
    "ew_train_dataset = datasets.ImageFolder(root='../data/ew/engine_wiring/train', transform=None)\n",
    "ew_test_dataset = datasets.ImageFolder(root='../data/ew/engine_wiring/test', transform=None)\n",
    "\n",
    "# Utilisez ContrastiveDataset pour créer des paires positives\n",
    "contrastive_train_dataset = ContrastiveDataset(ew_train_dataset, transform=transform_train_cm)\n",
    "contrastive_test_dataset = ContrastiveDataset(ew_test_dataset, transform=transform_val_cm)\n",
    "\n",
    "# Créez les DataLoaders\n",
    "BATCH_SIZE = 32\n",
    "ew_train_loader_cm = DataLoader(contrastive_train_dataset, batch_size=BATCH_SIZE, shuffle=True)\n",
    "ew_test_loader_cm = DataLoader(contrastive_test_dataset, batch_size=BATCH_SIZE, shuffle=True)\n"
   ]
  },
  {
   "cell_type": "code",
   "execution_count": 82,
   "metadata": {},
   "outputs": [],
   "source": [
    "# Define the Projection Head\n",
    "class ProjectionHead(nn.Module):\n",
    "    def __init__(self, input_dim, output_dim):\n",
    "        super(ProjectionHead, self).__init__()\n",
    "        self.fc1 = nn.Linear(input_dim, 128)\n",
    "        self.fc2 = nn.Linear(128, output_dim)\n",
    "\n",
    "    def forward(self, x):\n",
    "        x = F.relu(self.fc1(x))\n",
    "        return self.fc2(x)\n",
    "\n",
    "\n",
    "class ContrastiveModel(nn.Module):\n",
    "    def __init__(self, in_channels=3, latent_dim=32, projection_dim=128):\n",
    "        super(ContrastiveModel, self).__init__()\n",
    "        self.encoder = Encoder(in_channels=in_channels, latent_dim=latent_dim)\n",
    "        \n",
    "        # Ajustez input_dim en fonction de la sortie de l'encodeur\n",
    "        # En supposant que la sortie de l'encodeur est de dimension (256, 2, 2)\n",
    "        input_dim = 256 * 2 * 2\n",
    "        self.projection_head = ProjectionHead(input_dim=input_dim, output_dim=projection_dim)\n",
    "\n",
    "    def forward(self, x):\n",
    "        features = self.encoder(x)\n",
    "        features_flat = features.view(features.size(0), -1)\n",
    "        projections = self.projection_head(features_flat)\n",
    "        return projections\n",
    "\n",
    "    \n",
    "\n",
    "# Define the Contrastive Loss\n",
    "class ContrastiveLoss(nn.Module):\n",
    "    def __init__(self, temperature=0.1):\n",
    "        super(ContrastiveLoss, self).__init__()\n",
    "        self.temperature = temperature\n",
    "\n",
    "    def forward(self, z1, z2):\n",
    "        z1 = F.normalize(z1, dim=-1)\n",
    "        z2 = F.normalize(z2, dim=-1)\n",
    "        similarity = torch.mm(z1, z2.T) / self.temperature\n",
    "        labels = torch.arange(z1.size(0)).to(z1.device)\n",
    "        loss = F.cross_entropy(similarity, labels)\n",
    "        return loss\n",
    "\n",
    "\n",
    "# Training loop for contrastive learning\n",
    "def train_contrastive_model(model, criterion, optimizer, train_loader, val_loader, epochs=5):\n",
    "    for epoch in range(epochs):\n",
    "        model.train()\n",
    "        total_loss = 0\n",
    "        \n",
    "        for img1, img2, _ in train_loader:\n",
    "            img1, img2 = img1.to(device), img2.to(device)\n",
    "\n",
    "            optimizer.zero_grad()\n",
    "            z1 = model(img1)\n",
    "            z2 = model(img2)\n",
    "\n",
    "            loss = criterion(z1, z2)\n",
    "            loss.backward()\n",
    "            optimizer.step()\n",
    "            total_loss += loss.item()\n",
    "\n",
    "        avg_train_loss = total_loss / len(train_loader)\n",
    "\n",
    "        # Validation phase\n",
    "        model.eval()\n",
    "        total_val_loss = 0\n",
    "        with torch.no_grad():\n",
    "            for img1, img2, _ in val_loader:\n",
    "                img1, img2 = img1.to(device), img2.to(device)\n",
    "                \n",
    "                z1 = model(img1)\n",
    "                z2 = model(img2)\n",
    "\n",
    "                val_loss = criterion(z1, z2)\n",
    "                total_val_loss += val_loss.item()\n",
    "\n",
    "        avg_val_loss = total_val_loss / len(val_loader)\n",
    "\n",
    "        print(f\"Epoch {epoch+1}/{epochs}, Train Loss: {avg_train_loss:.4f}, Avg Val Loss: {avg_val_loss:.4f}\")\n"
   ]
  },
  {
   "cell_type": "code",
   "execution_count": 83,
   "metadata": {},
   "outputs": [
    {
     "name": "stdout",
     "output_type": "stream",
     "text": [
      "Epoch 1/5, Train Loss: 3.4675, Avg Val Loss: 3.4590\n",
      "Epoch 2/5, Train Loss: 3.4496, Avg Val Loss: 3.4215\n",
      "Epoch 3/5, Train Loss: 3.4259, Avg Val Loss: 3.3979\n",
      "Epoch 4/5, Train Loss: 3.4533, Avg Val Loss: 3.4613\n",
      "Epoch 5/5, Train Loss: 3.4428, Avg Val Loss: 3.1320\n"
     ]
    }
   ],
   "source": [
    "# Train the contrastive model\n",
    "\n",
    "model_contrast = ContrastiveModel(latent_dim=LATENT_DIM).to(device)\n",
    "contrastive_loss = ContrastiveLoss().to(device)\n",
    "optimizer = optim.Adam(model_contrast.parameters(), lr=1e-3)\n",
    "\n",
    "train_contrastive_model(model_contrast, contrastive_loss, optimizer ,ew_train_loader, ew_test_loader, epochs=5)\n"
   ]
  },
  {
   "cell_type": "markdown",
   "metadata": {},
   "source": [
    "# Anomaly detection "
   ]
  },
  {
   "cell_type": "code",
   "execution_count": 85,
   "metadata": {},
   "outputs": [],
   "source": [
    "class AnomalyDetectionModel(nn.Module):\n",
    "    def __init__(self, model):\n",
    "\n",
    "        super(AnomalyDetectionModel, self).__init__()\n",
    "        self.model = model\n",
    "\n",
    "    def forward(self, x):\n",
    "\n",
    "        x_reconstructed, _ = self.model.forward(x)\n",
    "        return x_reconstructed\n",
    "\n",
    "    def compute_anomaly_score(self, x):\n",
    "    \n",
    "        x_reconstructed = self.forward(x)\n",
    "        loss_fn = nn.MSELoss(reduction='none')\n",
    "        per_pixel_loss = loss_fn(x_reconstructed, x)\n",
    "        anomaly_score = per_pixel_loss.sum(dim=(1, 2, 3))  # Moyenne sur H, W, C\n",
    "    \n",
    "        return anomaly_score\n",
    "\n",
    "\n",
    "    def evaluate_anomaly_detection(self, dataloader):\n",
    "        \n",
    "        self.model.eval()\n",
    "        scores = []\n",
    "        labels = []\n",
    "    \n",
    "        with torch.no_grad():\n",
    "            for batch, label in dataloader: \n",
    "                x = batch.to(device)\n",
    "                label = label.to(device)\n",
    "                \n",
    "                # Calculer les scores d'anomalie\n",
    "                score = self.compute_anomaly_score(x)\n",
    "                \n",
    "                scores.extend(score.cpu().numpy())\n",
    "                labels.extend(label.cpu().numpy())\n",
    "        \n",
    "        return scores, labels\n"
   ]
  },
  {
   "cell_type": "markdown",
   "metadata": {},
   "source": [
    "#### Fine tuning "
   ]
  },
  {
   "cell_type": "code",
   "execution_count": 86,
   "metadata": {},
   "outputs": [],
   "source": [
    "\n",
    "def fine_tune_anomaly_detection(model, train_loader, valid_loader, epochs=10, lr=1e-5):\n",
    "\n",
    "\n",
    "    model = model.to(device)\n",
    "    optimizer = optim.Adam(model.parameters(), lr=lr)\n",
    "    criterion = nn.MSELoss()\n",
    "\n",
    "    history = {\"train_loss\": [], \"val_loss\": []}\n",
    "\n",
    "    for epoch in range(epochs):\n",
    "        # Phase d'entraînement\n",
    "        model.train()\n",
    "        train_loss = 0\n",
    "        for batch, _ in train_loader:\n",
    "            x = batch.to(device)\n",
    "            optimizer.zero_grad()\n",
    "            \n",
    "            # Reconstruction\n",
    "            reconstructed = model(x)\n",
    "            loss = criterion(reconstructed, x)\n",
    "            loss.backward()\n",
    "            optimizer.step()\n",
    "\n",
    "            train_loss += loss.item()\n",
    "\n",
    "        train_loss /= len(train_loader)\n",
    "        history[\"train_loss\"].append(train_loss)\n",
    "\n",
    "        # Phase de validation\n",
    "        model.eval()\n",
    "        val_loss = 0\n",
    "        with torch.no_grad():\n",
    "            for batch, _ in valid_loader:\n",
    "                x = batch.to(device)\n",
    "                reconstructed = model(x)\n",
    "                loss = criterion(reconstructed, x)\n",
    "                val_loss += loss.item()\n",
    "\n",
    "        val_loss /= len(valid_loader)\n",
    "        history[\"val_loss\"].append(val_loss)\n",
    "\n",
    "        print(f\"Epoch {epoch + 1}/{epochs}, Train Loss: {train_loss:.4f}, Val Loss: {val_loss:.4f}\")\n",
    "\n",
    "    return history\n"
   ]
  },
  {
   "cell_type": "code",
   "execution_count": 87,
   "metadata": {},
   "outputs": [],
   "source": [
    "def plot_roc_curve(y_true, y_scores):\n",
    "\n",
    "    # Calcul des courbes ROC\n",
    "    fpr, tpr, thresholds = roc_curve(y_true, y_scores)\n",
    "    roc_auc = auc(fpr, tpr)\n",
    "\n",
    "    # Tracé de la courbe ROC\n",
    "    plt.figure(figsize=(8, 6))\n",
    "    plt.plot(fpr, tpr, color='darkorange', lw=2, label=f'ROC curve (AUC = {roc_auc:.2f})')\n",
    "    plt.plot([0, 1], [0, 1], color='navy', lw=2, linestyle='--', label='Chance level')\n",
    "    plt.xlabel('False Positive Rate')\n",
    "    plt.ylabel('True Positive Rate')\n",
    "    plt.title('Receiver Operating Characteristic Curve')\n",
    "    plt.legend(loc=\"lower right\")\n",
    "    plt.grid()\n",
    "    plt.show()"
   ]
  },
  {
   "cell_type": "markdown",
   "metadata": {},
   "source": [
    "# Résults"
   ]
  },
  {
   "cell_type": "code",
   "execution_count": 88,
   "metadata": {},
   "outputs": [
    {
     "name": "stdout",
     "output_type": "stream",
     "text": [
      "Epoch 1/10, Train Loss: 0.0207, Val Loss: 0.0243\n",
      "Epoch 2/10, Train Loss: 0.0216, Val Loss: 0.0243\n",
      "Epoch 3/10, Train Loss: 0.0205, Val Loss: 0.0242\n",
      "Epoch 4/10, Train Loss: 0.0211, Val Loss: 0.0243\n",
      "Epoch 5/10, Train Loss: 0.0208, Val Loss: 0.0242\n",
      "Epoch 6/10, Train Loss: 0.0203, Val Loss: 0.0243\n",
      "Epoch 7/10, Train Loss: 0.0204, Val Loss: 0.0243\n",
      "Epoch 8/10, Train Loss: 0.0198, Val Loss: 0.0243\n",
      "Epoch 9/10, Train Loss: 0.0208, Val Loss: 0.0242\n",
      "Epoch 10/10, Train Loss: 0.0207, Val Loss: 0.0242\n"
     ]
    },
    {
     "data": {
      "image/png": "[encoded data removed]",
      "text/plain": [
       "<Figure size 800x600 with 1 Axes>"
      ]
     },
     "metadata": {},
     "output_type": "display_data"
    }
   ],
   "source": [
    "color_anomali = AnomalyDetectionModel(colorization_encoder)\n",
    "\n",
    "# Finetuning ! \n",
    "history = fine_tune_anomaly_detection(color_anomali, ew_train_loader, ew_test_loader, 10, 1e-5)\n",
    "\n",
    "scores, labels = color_anomali.evaluate_anomaly_detection(ew_test_loader)\n",
    "\n",
    "# Plotting roc curbe\n",
    "plot_roc_curve(labels, scores)"
   ]
  },
  {
   "cell_type": "code",
   "execution_count": 46,
   "metadata": {},
   "outputs": [
    {
     "name": "stdout",
     "output_type": "stream",
     "text": [
      "Epoch 1/50, Train Loss: 0.0223, Val Loss: 0.0256\n",
      "Epoch 2/50, Train Loss: 0.0217, Val Loss: 0.0256\n",
      "Epoch 3/50, Train Loss: 0.0221, Val Loss: 0.0254\n",
      "Epoch 4/50, Train Loss: 0.0226, Val Loss: 0.0254\n",
      "Epoch 5/50, Train Loss: 0.0224, Val Loss: 0.0254\n",
      "Epoch 6/50, Train Loss: 0.0229, Val Loss: 0.0252\n",
      "Epoch 7/50, Train Loss: 0.0214, Val Loss: 0.0254\n",
      "Epoch 8/50, Train Loss: 0.0221, Val Loss: 0.0254\n",
      "Epoch 9/50, Train Loss: 0.0215, Val Loss: 0.0253\n",
      "Epoch 10/50, Train Loss: 0.0221, Val Loss: 0.0254\n",
      "Epoch 11/50, Train Loss: 0.0218, Val Loss: 0.0255\n",
      "Epoch 12/50, Train Loss: 0.0216, Val Loss: 0.0254\n",
      "Epoch 13/50, Train Loss: 0.0213, Val Loss: 0.0253\n",
      "Epoch 14/50, Train Loss: 0.0221, Val Loss: 0.0256\n",
      "Epoch 15/50, Train Loss: 0.0218, Val Loss: 0.0254\n",
      "Epoch 16/50, Train Loss: 0.0214, Val Loss: 0.0254\n",
      "Epoch 17/50, Train Loss: 0.0210, Val Loss: 0.0253\n",
      "Epoch 18/50, Train Loss: 0.0215, Val Loss: 0.0254\n",
      "Epoch 19/50, Train Loss: 0.0215, Val Loss: 0.0252\n",
      "Epoch 20/50, Train Loss: 0.0209, Val Loss: 0.0252\n",
      "Epoch 21/50, Train Loss: 0.0212, Val Loss: 0.0252\n",
      "Epoch 22/50, Train Loss: 0.0223, Val Loss: 0.0254\n",
      "Epoch 23/50, Train Loss: 0.0220, Val Loss: 0.0252\n",
      "Epoch 24/50, Train Loss: 0.0211, Val Loss: 0.0252\n",
      "Epoch 25/50, Train Loss: 0.0225, Val Loss: 0.0252\n",
      "Epoch 26/50, Train Loss: 0.0220, Val Loss: 0.0251\n",
      "Epoch 27/50, Train Loss: 0.0219, Val Loss: 0.0252\n",
      "Epoch 28/50, Train Loss: 0.0215, Val Loss: 0.0252\n",
      "Epoch 29/50, Train Loss: 0.0212, Val Loss: 0.0251\n",
      "Epoch 30/50, Train Loss: 0.0223, Val Loss: 0.0252\n",
      "Epoch 31/50, Train Loss: 0.0217, Val Loss: 0.0252\n",
      "Epoch 32/50, Train Loss: 0.0215, Val Loss: 0.0252\n",
      "Epoch 33/50, Train Loss: 0.0211, Val Loss: 0.0253\n",
      "Epoch 34/50, Train Loss: 0.0217, Val Loss: 0.0253\n",
      "Epoch 35/50, Train Loss: 0.0211, Val Loss: 0.0254\n",
      "Epoch 36/50, Train Loss: 0.0212, Val Loss: 0.0252\n",
      "Epoch 37/50, Train Loss: 0.0212, Val Loss: 0.0250\n",
      "Epoch 38/50, Train Loss: 0.0213, Val Loss: 0.0250\n",
      "Epoch 39/50, Train Loss: 0.0218, Val Loss: 0.0251\n",
      "Epoch 40/50, Train Loss: 0.0212, Val Loss: 0.0251\n",
      "Epoch 41/50, Train Loss: 0.0215, Val Loss: 0.0251\n",
      "Epoch 42/50, Train Loss: 0.0219, Val Loss: 0.0252\n",
      "Epoch 43/50, Train Loss: 0.0217, Val Loss: 0.0251\n",
      "Epoch 44/50, Train Loss: 0.0211, Val Loss: 0.0250\n",
      "Epoch 45/50, Train Loss: 0.0215, Val Loss: 0.0252\n",
      "Epoch 46/50, Train Loss: 0.0216, Val Loss: 0.0252\n",
      "Epoch 47/50, Train Loss: 0.0218, Val Loss: 0.0252\n",
      "Epoch 48/50, Train Loss: 0.0230, Val Loss: 0.0250\n",
      "Epoch 49/50, Train Loss: 0.0217, Val Loss: 0.0251\n",
      "Epoch 50/50, Train Loss: 0.0220, Val Loss: 0.0249\n"
     ]
    },
    {
     "data": {
      "image/png": "[encoded data removed]",
      "text/plain": [
       "<Figure size 800x600 with 1 Axes>"
      ]
     },
     "metadata": {},
     "output_type": "display_data"
    }
   ],
   "source": [
    "inpainting_anomali = AnomalyDetectionModel(inpainting_encoder)\n",
    "\n",
    "# Finetuning ! \n",
    "history = fine_tune_anomaly_detection(inpainting_anomali, ew_train_loader, ew_test_loader, 50, 1e-5)\n",
    "\n",
    "\n",
    "\n",
    "scores, labels = inpainting_anomali.evaluate_anomaly_detection(ew_test_loader)\n",
    "\n",
    "# Plotting roc curbe\n",
    "plot_roc_curve(labels, scores)"
   ]
  },
  {
   "cell_type": "code",
   "execution_count": 49,
   "metadata": {},
   "outputs": [
    {
     "name": "stdout",
     "output_type": "stream",
     "text": [
      "Epoch 1/10, Train Loss: 0.0212, Val Loss: 0.0235\n",
      "Epoch 2/10, Train Loss: 0.0208, Val Loss: 0.0235\n",
      "Epoch 3/10, Train Loss: 0.0214, Val Loss: 0.0236\n",
      "Epoch 4/10, Train Loss: 0.0214, Val Loss: 0.0235\n",
      "Epoch 5/10, Train Loss: 0.0203, Val Loss: 0.0236\n",
      "Epoch 6/10, Train Loss: 0.0204, Val Loss: 0.0235\n",
      "Epoch 7/10, Train Loss: 0.0201, Val Loss: 0.0235\n",
      "Epoch 8/10, Train Loss: 0.0198, Val Loss: 0.0234\n",
      "Epoch 9/10, Train Loss: 0.0198, Val Loss: 0.0234\n",
      "Epoch 10/10, Train Loss: 0.0199, Val Loss: 0.0234\n"
     ]
    },
    {
     "data": {
      "image/png": "[encoded data removed]",
      "text/plain": [
       "<Figure size 800x600 with 1 Axes>"
      ]
     },
     "metadata": {},
     "output_type": "display_data"
    }
   ],
   "source": [
    "mae_anomali = AnomalyDetectionModel(mae_encoder)\n",
    "\n",
    "# Finetuning ! \n",
    "history = fine_tune_anomaly_detection(mae_anomali, ew_train_loader, ew_test_loader, 10, 1e-5)\n",
    "\n",
    "\n",
    "\n",
    "scores, labels = mae_anomali.evaluate_anomaly_detection(ew_test_loader)\n",
    "\n",
    "# Plotting roc curbe\n",
    "plot_roc_curve(labels, scores)"
   ]
  },
  {
   "cell_type": "code",
   "execution_count": null,
   "metadata": {},
   "outputs": [],
   "source": []
  }
 ],
 "metadata": {
  "kernelspec": {
   "display_name": "HDDL",
   "language": "python",
   "name": "python3"
  },
  "language_info": {
   "codemirror_mode": {
    "name": "ipython",
    "version": 3
   },
   "file_extension": ".py",
   "mimetype": "text/x-python",
   "name": "python",
   "nbconvert_exporter": "python",
   "pygments_lexer": "ipython3",
   "version": "3.8.20"
  }
 },
 "nbformat": 4,
 "nbformat_minor": 2
}

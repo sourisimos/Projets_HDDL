{
 "cells": [
  {
   "cell_type": "markdown",
   "id": "d8111c43-7168-4197-9d91-a8d4f4690c4f",
   "metadata": {},
   "source": [
    "# Mini-project n°2 - Conditional VAEs"
   ]
  },
  {
   "cell_type": "markdown",
   "id": "aefec46a-2565-4af9-917e-3cd13bcd3856",
   "metadata": {},
   "source": [
    "## I) Contexte du projet et présentation des CVAE"
   ]
  },
  {
   "cell_type": "markdown",
   "id": "002f6aa6-8d63-4e28-8790-cb596fa50de2",
   "metadata": {},
   "source": [
    "### I.1) Présentation du projet"
   ]
  },
  {
   "cell_type": "markdown",
   "id": "5127ce73-3ced-4116-8a5b-7da3b78ef2df",
   "metadata": {},
   "source": [
    "Au cours de ce projet, nous avons travaillé sur le jeu de données Fashion-MNIST, qui contient des images de vêtements en vente sur Zalando. Les images de vêtements sont séparés dans 10 catégories au sein du jeu de données, selon le type de l'article (T-shirt/top, pantalon, pull-over, robe, manteau, sandales, chemises, baskets, sacs et bottines). Notre objectif est de cosntruire et d'entrainer un réseau de neurone, qui nous permette de générer des images d'un certain type d'article voulu."
   ]
  },
  {
   "cell_type": "markdown",
   "id": "2c64a06a-9c6c-425f-ac9c-d8d1ffb8bbd5",
   "metadata": {},
   "source": [
    "### I.2) Présentation des CVAE"
   ]
  },
  {
   "cell_type": "markdown",
   "id": "22eea9ea-a962-4fc9-b9a0-8409a1ff68b9",
   "metadata": {},
   "source": [
    "Contrairement à ce que nous avons vu en cours et en TP, nous voulons cette fois générer des images d'une certaine catégorie choisie (par exemple une image de pantalon). Cela ne peut pas être réalisé avec un VAE classique, qui va générer une image aléatoirement dans n'importe quelle catégorie. C'est pourquoi nous allons utiliser un VAE Conditionnel (CVAE).  \n",
    "Un CVAE est une variante du VAE, où l'on renseigne une variable conditionnelle (dans notre cas le type du vêtement) avec les images. Elles vont ainsi être prises en compte au cours de l'entrainement, puis de la génération d'image, ce qui permettra de sélectionner le type d'image à créer.\n",
    "\n",
    "\n",
    "Plus formellement, ..."
   ]
  },
  {
   "cell_type": "code",
   "execution_count": null,
   "id": "d31ea99a-5cb6-4e3a-92bc-6e3f1c99cffc",
   "metadata": {},
   "outputs": [],
   "source": []
  },
  {
   "cell_type": "code",
   "execution_count": null,
   "id": "c271cb61-bef5-4b3a-8dae-d2c99707c632",
   "metadata": {},
   "outputs": [],
   "source": []
  },
  {
   "cell_type": "code",
   "execution_count": null,
   "id": "483a0850-f6dc-40cc-a431-20a9f29ea438",
   "metadata": {},
   "outputs": [],
   "source": []
  },
  {
   "cell_type": "markdown",
   "id": "e8ff58e2-7135-4265-9256-bac2338cc664",
   "metadata": {},
   "source": [
    "Sources :\n",
    "* https://www.kaggle.com/datasets/zalando-research/fashionmnist  (Présentation du jeu de données)\n",
    "* https://theaiacademy.blogspot.com/2020/05/understanding-conditional-variational.html?fbclid=IwY2xjawF8tPBleHRuA2FlbQIxMAABHZD1UeHYOSm43hwyGJyiw6LqiVn4uDZYMrjmsC58N-l8LDb3m9_Jyp8QvA_aem_PtK3ONbBJXwtcX0EGh7Hcw (Présentation des CVAE) \n",
    "* https://proceedings.neurips.cc/paper_files/paper/2015/file/8d55a249e6baa5c06772297520da2051-Paper.pdf?fbclid=IwY2xjawF8tPJleHRuA2FlbQIxMAABHZD1UeHYOSm43hwyGJyiw6LqiVn4uDZYMrjmsC58N-l8LDb3m9_Jyp8QvA_aem_PtK3ONbBJXwtcX0EGh7Hcw (Article de recherche sur les CVAE)\n",
    "* https://github.com/nnormandin/Conditional_VAE/blob/master/Conditional_VAE.ipynb?fbclid=IwY2xjawF8tPZleHRuA2FlbQIxMAABHZD1UeHYOSm43hwyGJyiw6LqiVn4uDZYMrjmsC58N-l8LDb3m9_Jyp8QvA_aem_PtK3ONbBJXwtcX0EGh7Hcw (Git à propos des CVAE)\n"
   ]
  },
  {
   "cell_type": "code",
   "execution_count": null,
   "id": "8f1d02c7-4f26-41af-9ddf-2348be1ff7f2",
   "metadata": {},
   "outputs": [],
   "source": []
  }
 ],
 "metadata": {
  "kernelspec": {
   "display_name": "Python torch",
   "language": "python",
   "name": "torch2"
  },
  "language_info": {
   "codemirror_mode": {
    "name": "ipython",
    "version": 3
   },
   "file_extension": ".py",
   "mimetype": "text/x-python",
   "name": "python",
   "nbconvert_exporter": "python",
   "pygments_lexer": "ipython3",
   "version": "3.10.15"
  }
 },
 "nbformat": 4,
 "nbformat_minor": 5
}
